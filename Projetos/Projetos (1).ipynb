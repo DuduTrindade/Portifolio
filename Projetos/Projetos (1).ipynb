{
 "cells": [
  {
   "cell_type": "markdown",
   "id": "5ed33e30-9bc9-4a22-bdff-a55334e2630d",
   "metadata": {},
   "source": [
    "# Projetos"
   ]
  },
  {
   "cell_type": "markdown",
   "id": "7e6706ce-15c6-4ec0-9d61-00541e5d011e",
   "metadata": {},
   "source": [
    "Neste espaço, você encontrará uma coleção dos meus projetos, cada um documentado com explicações detalhadas e códigos comentados. O objetivo é tornar cada projeto acessível, facilitando sua compreensão e reprodução. Retornar ao [Início.](https://github.com/DuduTrindade/Portifolio?tab=readme-ov-file#-projetos)\n"
   ]
  },
  {
   "cell_type": "markdown",
   "id": "c9b83bcf-3bcb-4b9e-978f-5a89650f16d8",
   "metadata": {},
   "source": [
    "### [Análise de Vendas de Produtos Eletrônicos](https://github.com/DuduTrindade/Portifolio/tree/main/Projetos/Projeto%2001%20-%20An%C3%A1lise%20de%20Vendas)"
   ]
  },
  {
   "cell_type": "markdown",
   "id": "2576dbcf-9775-4ea2-a2ca-d2c27e5e0e50",
   "metadata": {},
   "source": [
    "<p style=\"text-align: justify;\">Este projeto tem como objetivo analisar os dados de vendas da empresa fictícia Nova Varejo, que atua no seguimento de vendas de produtos eletrônicos e vestuário. A análise visa identificar decisões baseadas em insights para entender o comportamento do consumidor, desempenho das lojas em diferentes regiões, otimizar estratégias de vendas e reduzir custos. Analisamos a distribuição de clientes por gênero e faixa etária, distribuição geográfica, motivos de devolução, taxas de devolução por produtos e lojas, itens mais vendidos e tendências temporais de vendas. Com isso, obtemos insights valiosos que orientam decisões estratégicas e melhoram a eficiência operacional da empresa.</p>\n"
   ]
  }
 ],
 "metadata": {
  "kernelspec": {
   "display_name": "Python 3 (ipykernel)",
   "language": "python",
   "name": "python3"
  },
  "language_info": {
   "codemirror_mode": {
    "name": "ipython",
    "version": 3
   },
   "file_extension": ".py",
   "mimetype": "text/x-python",
   "name": "python",
   "nbconvert_exporter": "python",
   "pygments_lexer": "ipython3",
   "version": "3.13.5"
  }
 },
 "nbformat": 4,
 "nbformat_minor": 5
}

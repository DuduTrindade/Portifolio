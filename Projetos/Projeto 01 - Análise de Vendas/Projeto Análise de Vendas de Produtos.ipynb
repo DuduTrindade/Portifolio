{
 "cells": [
  {
   "cell_type": "markdown",
   "metadata": {
    "application/vnd.databricks.v1+cell": {
     "cellMetadata": {
      "byteLimit": 2048000,
      "rowLimit": 10000
     },
     "inputWidgets": {},
     "nuid": "0e8634c6-f8b4-4fbe-b3e2-609e0648bb9f",
     "showTitle": false,
     "tableResultSettingsMap": {},
     "title": ""
    }
   },
   "source": [
    "Este projeto tem como foco a análise de dados da empresa fictícia Nova Varejo que atua nos segmentos de eletrônicos e vestuário. Com um portfólio diversificado que inclui desde dispositivos móveis, computadores e acessórios tecnológicos de ponta até camisas, casacos e relógios, a empresa possui uma presença global, operando em múltiplos continentes por meio de canais online e lojas físicas. Seu público-alvo abrange desde consumidores individuais até pequenas e grandes empresas, o que demanda uma abordagem analítica abrangente e detalhada.\n",
    "\n",
    "Este projeto de análise de vendas é dividido em seis etapas principais.​\n",
    "\n",
    "A [**Etapa 00 – Entendimento do Negócio**] consiste em compreender os objetivos da empresa, o problema a ser resolvido e quais decisões serão orientadas pelos dados.\n",
    "\n",
    "Em seguida, a [**Etapa 01 – Importação e Tratamento dos Dados**] envolve a coleta de dados brutos, a verificação de sua qualidade e a aplicação de técnicas para corrigir inconsistências, remover duplicatas e padronizar os formatos. Na [**Etapa 02 – Modelagem dos Dados**], os dados são organizados de forma estruturada, criando tabelas e relacionamentos que facilitam a análise, como tabelas fato e dimensão.\n",
    "\n",
    "A [**Etapa 03 – Perguntas de Negócio**] traduz os objetivos em perguntas estratégicas que guiarão a análise, como identificar os produtos mais vendidos ou as lojas com melhor desempenho.\n",
    "\n",
    "Já a [**Etapa 04 – Análise Descritiva**] utiliza ferramentas estatísticas e visuais para explorar os dados, identificar padrões, tendências e anomalias relevantes.\n",
    "\n",
    "Por fim, a [**Etapa 05 – Relatório**] apresenta os resultados em formatos claros e objetivos, como dashboards, apresentações ou documentos, permitindo que os tomadores de decisão utilizem os insights obtidos de forma prática.\n",
    "\n",
    "\n",
    "### \uD83D\uDCDDEtapa 01 - Entendimento do Negócio\n",
    "\n",
    "​Recém-contratado como Analista de Dados Júnior na empresa Nova Varejo, fui designado para realizar uma análise descritiva com base nas vendas das lojas físicas e da plataforma de e-commerce da empresa, no período de janeiro/20 a junho/22. A liderança quer entender melhor o comportamento dos clientes, desempenho dos produtos e lojas em diferentes regiões, otimizar estratégias de vendas e reduzir custos.\n",
    "\n",
    "Objetivo:  Apresentar um relatório com insights que possam apoiar a tomada de decisões.\n",
    "\n",
    "#### \uD83C\uDFB2Conjunto dos Dados​\n",
    "\n",
    "Os dados foram disponibilizados em formato de arquivos csv extraídos do sistema da empresa. As tabelas são compostas pelas seguintes informações:\n",
    "\n",
    "- **Clientes**: Contém informações demográficas dos clientes.\n",
    "- **Devoluções**: Registra as devoluções de produtos.\n",
    "- **Itens**: Detalha os itens vendidos em cada venda.\n",
    "- **Localidades**: Armazena informações geográficas das lojas.\n",
    "- **Lojas**: Contém informações sobre as lojas.\n",
    "- **Produtos**: Armazena informações sobre os produtos vendidos.\n",
    "- **Vendas**: Registra as vendas realizadas.\n",
    "\n",
    "\n",
    "\n"
   ]
  },
  {
   "cell_type": "markdown",
   "metadata": {
    "application/vnd.databricks.v1+cell": {
     "cellMetadata": {
      "byteLimit": 2048000,
      "rowLimit": 10000
     },
     "inputWidgets": {},
     "nuid": "575623dc-981d-40bf-8c2c-4e8f0b9b159f",
     "showTitle": false,
     "tableResultSettingsMap": {},
     "title": ""
    }
   },
   "source": [
    "### \uD83D\uDCE5Importação e Tratamento dos Dados\n",
    "O script abaixo realiza a importação de múltiplos arquivos CSV de um diretório específico no Databricks, transformando cada arquivo em uma tabela com o mesmo nome do arquivo original (sem a extensão .csv).\n"
   ]
  },
  {
   "cell_type": "code",
   "execution_count": 0,
   "metadata": {
    "application/vnd.databricks.v1+cell": {
     "cellMetadata": {
      "byteLimit": 2048000,
      "rowLimit": 10000
     },
     "inputWidgets": {},
     "nuid": "a0eaac7e-04fc-4ae3-a109-0a7a422ef3d3",
     "showTitle": false,
     "tableResultSettingsMap": {},
     "title": ""
    }
   },
   "outputs": [
    {
     "output_type": "stream",
     "name": "stdout",
     "output_type": "stream",
     "text": [
      "✅ Arquivo dbfs:/Volumes/workspace/default/estudo/Clientes.csv importado com sucesso como tabela Clientes\n✅ Arquivo dbfs:/Volumes/workspace/default/estudo/Devolucoes.csv importado com sucesso como tabela Devolucoes\n✅ Arquivo dbfs:/Volumes/workspace/default/estudo/Itens.csv importado com sucesso como tabela Itens\n✅ Arquivo dbfs:/Volumes/workspace/default/estudo/Localidades.csv importado com sucesso como tabela Localidades\n✅ Arquivo dbfs:/Volumes/workspace/default/estudo/Lojas.csv importado com sucesso como tabela Lojas\n✅ Arquivo dbfs:/Volumes/workspace/default/estudo/Produtos.csv importado com sucesso como tabela Produtos\n✅ Arquivo dbfs:/Volumes/workspace/default/estudo/Vendas.csv importado com sucesso como tabela Vendas\n"
     ]
    }
   ],
   "source": [
    "%python\n",
    "# Lista todos arquivos CSV no diretório\n",
    "csv_files = dbutils.fs.ls(\"dbfs:/Volumes/workspace/default/estudo/\")  \n",
    "csv_files = [file.path for file in csv_files if file.name.endswith('.csv')]\n",
    "\n",
    "for file_path in csv_files:\n",
    "    try:\n",
    "        # Extrai o nome da tabela do nome do arquivo\n",
    "        table_name = file_path.split('/')[-1].replace('.csv', '')\n",
    "        \n",
    "        # Lê o arquivo CSV com tratamento de erros\n",
    "        df = (spark.read\n",
    "              .option(\"header\", \"true\")\n",
    "              .option(\"delimiter\", \";\")  # Ajuste para o delimitador correto\n",
    "              .option(\"inferSchema\", \"true\")\n",
    "              .option(\"encoding\", \"UTF-8\")  # Adicionado para tratar encoding\n",
    "              .csv(file_path))\n",
    "        \n",
    "        # Salva como tabela permanente no schema default\n",
    "        df.write.mode(\"overwrite\").saveAsTable(table_name)\n",
    "        \n",
    "        print(f\"✅ Arquivo {file_path} importado com sucesso como tabela {table_name}\")\n",
    "        \n",
    "    except Exception as e:\n",
    "        print(f\"❌ Erro ao processar {file_path}: {str(e)}\")"
   ]
  },
  {
   "cell_type": "markdown",
   "metadata": {
    "application/vnd.databricks.v1+cell": {
     "cellMetadata": {},
     "inputWidgets": {},
     "nuid": "856e30a2-4a9c-4acb-a932-9b8a3542b7be",
     "showTitle": false,
     "tableResultSettingsMap": {},
     "title": ""
    }
   },
   "source": [
    "#### \uD83D\uDD0DInspecionando as Tabelas\n",
    "Agora iremos verificar como os dados estão dispostos em cada tabela do banco de dados. Analisaremos possíveis valores duplicados e valores nulos, verificação dos tipos de dados e total de registros."
   ]
  },
  {
   "cell_type": "markdown",
   "metadata": {
    "application/vnd.databricks.v1+cell": {
     "cellMetadata": {},
     "inputWidgets": {},
     "nuid": "69be0896-83a7-4597-a944-45b89b55997e",
     "showTitle": false,
     "tableResultSettingsMap": {},
     "title": ""
    }
   },
   "source": [
    "#### \uD83D\uDCF6Tabela Clientes"
   ]
  },
  {
   "cell_type": "code",
   "execution_count": 0,
   "metadata": {
    "application/vnd.databricks.v1+cell": {
     "cellMetadata": {
      "byteLimit": 2048000,
      "rowLimit": 10000
     },
     "inputWidgets": {},
     "nuid": "a1cb5895-f309-4231-92a2-5f585d979b6a",
     "showTitle": false,
     "tableResultSettingsMap": {},
     "title": ""
    }
   },
   "outputs": [
    {
     "output_type": "display_data",
     "data": {
      "text/html": [
       "<style scoped>\n",
       "  .table-result-container {\n",
       "    max-height: 300px;\n",
       "    overflow: auto;\n",
       "  }\n",
       "  table, th, td {\n",
       "    border: 1px solid black;\n",
       "    border-collapse: collapse;\n",
       "  }\n",
       "  th, td {\n",
       "    padding: 5px;\n",
       "  }\n",
       "  th {\n",
       "    text-align: left;\n",
       "  }\n",
       "</style><div class='table-result-container'><table class='table-result'><thead style='background-color: white'><tr><th>ID_Cliente</th><th>Primeiro_Nome</th><th>Sobrenome</th><th>Email</th><th>Genero</th><th>Data_Nascimento</th><th>Estado_Civil</th><th>Num_Filhos</th><th>Nivel_Escolar</th><th>Documento</th><th>Id_Localidade</th></tr></thead><tbody><tr><td>11000</td><td>STHEFESON</td><td>PEREIRA</td><td>sthefeson8@icloud.com</td><td>M</td><td>1966-08-04</td><td>C</td><td>2</td><td>Superior Completo</td><td>80912350</td><td>32</td></tr><tr><td>11001</td><td>ANTONIO</td><td>MANHÃES</td><td>antonio19@hotmail.com.br</td><td>M</td><td>1965-05-14</td><td>S</td><td>3</td><td>Superior Completo</td><td>18106981686</td><td>30</td></tr><tr><td>11002</td><td>BIANCA</td><td>PAZ</td><td>bianca53@live.com.br</td><td>F</td><td>1965-12-08</td><td>C</td><td>3</td><td>Superior Completo</td><td>77468986692</td><td>24</td></tr><tr><td>11003</td><td>SILVIO</td><td>FAHRNHOLZ</td><td>silvio21@hotmail.com.br</td><td>M</td><td>1968-02-15</td><td>S</td><td>0</td><td>Superior Completo</td><td>28009530521</td><td>1</td></tr><tr><td>11004</td><td>LUIZA</td><td>CABRAL</td><td>luiza70@msn.com</td><td>F</td><td>1968-08-08</td><td>S</td><td>5</td><td>Superior Completo</td><td>16316472002</td><td>4</td></tr><tr><td>11005</td><td>ANA</td><td>SILVA</td><td>ana59@outlook.com.br</td><td>F</td><td>1965-05-08</td><td>S</td><td>0</td><td>Superior Completo</td><td>4013622223</td><td>21</td></tr><tr><td>11007</td><td>NATALIA</td><td>MARINHO</td><td>natalia44@icloud.com</td><td>F</td><td>1964-09-05</td><td>C</td><td>3</td><td>Superior Completo</td><td>37087830006</td><td>34</td></tr><tr><td>11008</td><td>LEONARDO</td><td>FERREIRA</td><td>leonardo63@yahoo.com.br</td><td>M</td><td>1964-07-07</td><td>S</td><td>4</td><td>Superior Completo</td><td>81547961498</td><td>12</td></tr><tr><td>11009</td><td>CHAN</td><td>SANTOS</td><td>chan17@uol.com</td><td>F</td><td>1964-01-04</td><td>S</td><td>0</td><td>Superior Completo</td><td>9307863580</td><td>16</td></tr><tr><td>11010</td><td>FERNANDA</td><td>FERREIRA</td><td>fernanda31@yahoo.com</td><td>F</td><td>1964-06-02</td><td>S</td><td>0</td><td>Superior Completo</td><td>65608656996</td><td>17</td></tr><tr><td>11011</td><td>RAISSA</td><td>NEGRELLI</td><td>raissa28@yahoo.com.br</td><td>F</td><td>1963-04-11</td><td>C</td><td>4</td><td>Superior Completo</td><td>1811326</td><td>5</td></tr><tr><td>11012</td><td>ARTHUR</td><td>ROCHA</td><td>arthur41@uol.com</td><td>M</td><td>1968-01-18</td><td>C</td><td>2</td><td>Superior Completo</td><td>30339354628</td><td>11</td></tr><tr><td>11013</td><td>EDUARDO</td><td>SILVA</td><td>eduardo57@live.com.br</td><td>M</td><td>1968-06-08</td><td>C</td><td>2</td><td>Superior Completo</td><td>9686016920</td><td>7</td></tr><tr><td>11014</td><td>JOÃO</td><td>AIRES</td><td>joão17@live.com</td><td>M</td><td>1968-09-05</td><td>S</td><td>3</td><td>Superior Completo</td><td>67853074692</td><td>32</td></tr><tr><td>11015</td><td>CAIO</td><td>CALDAS</td><td>caio60@gmail.com.br</td><td>M</td><td>1979-02-27</td><td>S</td><td>0</td><td>Superior Incompleto</td><td>37983501514</td><td>33</td></tr><tr><td>11016</td><td>TIAGO</td><td>PEREIRA</td><td>tiago48@icloud.com.br</td><td>M</td><td>1979-04-28</td><td>C</td><td>0</td><td>Superior Incompleto</td><td>77981752829</td><td>12</td></tr><tr><td>11017</td><td>JULIA</td><td>PENTEADO</td><td>julia36@terra.com.br</td><td>F</td><td>1944-06-26</td><td>S</td><td>4</td><td>Ensino Médio Completo</td><td>49079518582</td><td>13</td></tr><tr><td>11018</td><td>BERNARDO</td><td>BOTELHO</td><td>bernardo50@outlook.com</td><td>M</td><td>1944-09-10</td><td>S</td><td>2</td><td>Superior Incompleto</td><td>25692001926</td><td>3</td></tr><tr><td>11019</td><td>VICTOR</td><td>FERREIRA</td><td>victor4@msn.com.br</td><td>M</td><td>2003-05-15</td><td>S</td><td>0</td><td>Ensino Médio Completo</td><td>36490461255</td><td>2</td></tr><tr><td>11020</td><td>THAYS</td><td>CASTRO</td><td>thays23@uol.com</td><td>F</td><td>2003-11-28</td><td>S</td><td>0</td><td>Ensino Médio Completo</td><td>43384364592</td><td>4</td></tr></tbody></table></div>"
      ]
     },
     "metadata": {
      "application/vnd.databricks.v1+output": {
       "addedWidgets": {},
       "aggData": [],
       "aggError": "",
       "aggOverflow": false,
       "aggSchema": [],
       "aggSeriesLimitReached": false,
       "aggType": "",
       "arguments": {},
       "columnCustomDisplayInfos": {},
       "data": [
        [
         11000,
         "STHEFESON",
         "PEREIRA",
         "sthefeson8@icloud.com",
         "M",
         "1966-08-04",
         "C",
         2,
         "Superior Completo",
         80912350,
         32
        ],
        [
         11001,
         "ANTONIO",
         "MANHÃES",
         "antonio19@hotmail.com.br",
         "M",
         "1965-05-14",
         "S",
         3,
         "Superior Completo",
         18106981686,
         30
        ],
        [
         11002,
         "BIANCA",
         "PAZ",
         "bianca53@live.com.br",
         "F",
         "1965-12-08",
         "C",
         3,
         "Superior Completo",
         77468986692,
         24
        ],
        [
         11003,
         "SILVIO",
         "FAHRNHOLZ",
         "silvio21@hotmail.com.br",
         "M",
         "1968-02-15",
         "S",
         0,
         "Superior Completo",
         28009530521,
         1
        ],
        [
         11004,
         "LUIZA",
         "CABRAL",
         "luiza70@msn.com",
         "F",
         "1968-08-08",
         "S",
         5,
         "Superior Completo",
         16316472002,
         4
        ],
        [
         11005,
         "ANA",
         "SILVA",
         "ana59@outlook.com.br",
         "F",
         "1965-05-08",
         "S",
         0,
         "Superior Completo",
         4013622223,
         21
        ],
        [
         11007,
         "NATALIA",
         "MARINHO",
         "natalia44@icloud.com",
         "F",
         "1964-09-05",
         "C",
         3,
         "Superior Completo",
         37087830006,
         34
        ],
        [
         11008,
         "LEONARDO",
         "FERREIRA",
         "leonardo63@yahoo.com.br",
         "M",
         "1964-07-07",
         "S",
         4,
         "Superior Completo",
         81547961498,
         12
        ],
        [
         11009,
         "CHAN",
         "SANTOS",
         "chan17@uol.com",
         "F",
         "1964-01-04",
         "S",
         0,
         "Superior Completo",
         9307863580,
         16
        ],
        [
         11010,
         "FERNANDA",
         "FERREIRA",
         "fernanda31@yahoo.com",
         "F",
         "1964-06-02",
         "S",
         0,
         "Superior Completo",
         65608656996,
         17
        ],
        [
         11011,
         "RAISSA",
         "NEGRELLI",
         "raissa28@yahoo.com.br",
         "F",
         "1963-04-11",
         "C",
         4,
         "Superior Completo",
         1811326,
         5
        ],
        [
         11012,
         "ARTHUR",
         "ROCHA",
         "arthur41@uol.com",
         "M",
         "1968-01-18",
         "C",
         2,
         "Superior Completo",
         30339354628,
         11
        ],
        [
         11013,
         "EDUARDO",
         "SILVA",
         "eduardo57@live.com.br",
         "M",
         "1968-06-08",
         "C",
         2,
         "Superior Completo",
         9686016920,
         7
        ],
        [
         11014,
         "JOÃO",
         "AIRES",
         "joão17@live.com",
         "M",
         "1968-09-05",
         "S",
         3,
         "Superior Completo",
         67853074692,
         32
        ],
        [
         11015,
         "CAIO",
         "CALDAS",
         "caio60@gmail.com.br",
         "M",
         "1979-02-27",
         "S",
         0,
         "Superior Incompleto",
         37983501514,
         33
        ],
        [
         11016,
         "TIAGO",
         "PEREIRA",
         "tiago48@icloud.com.br",
         "M",
         "1979-04-28",
         "C",
         0,
         "Superior Incompleto",
         77981752829,
         12
        ],
        [
         11017,
         "JULIA",
         "PENTEADO",
         "julia36@terra.com.br",
         "F",
         "1944-06-26",
         "S",
         4,
         "Ensino Médio Completo",
         49079518582,
         13
        ],
        [
         11018,
         "BERNARDO",
         "BOTELHO",
         "bernardo50@outlook.com",
         "M",
         "1944-09-10",
         "S",
         2,
         "Superior Incompleto",
         25692001926,
         3
        ],
        [
         11019,
         "VICTOR",
         "FERREIRA",
         "victor4@msn.com.br",
         "M",
         "2003-05-15",
         "S",
         0,
         "Ensino Médio Completo",
         36490461255,
         2
        ],
        [
         11020,
         "THAYS",
         "CASTRO",
         "thays23@uol.com",
         "F",
         "2003-11-28",
         "S",
         0,
         "Ensino Médio Completo",
         43384364592,
         4
        ]
       ],
       "datasetInfos": [
        {
         "name": "_sqldf",
         "schema": {
          "fields": [
           {
            "metadata": {},
            "name": "ID_Cliente",
            "nullable": true,
            "type": "integer"
           },
           {
            "metadata": {},
            "name": "Primeiro_Nome",
            "nullable": true,
            "type": "string"
           },
           {
            "metadata": {},
            "name": "Sobrenome",
            "nullable": true,
            "type": "string"
           },
           {
            "metadata": {},
            "name": "Email",
            "nullable": true,
            "type": "string"
           },
           {
            "metadata": {},
            "name": "Genero",
            "nullable": true,
            "type": "string"
           },
           {
            "metadata": {
             "__detected_date_formats": "d/M/yyyy"
            },
            "name": "Data_Nascimento",
            "nullable": true,
            "type": "date"
           },
           {
            "metadata": {},
            "name": "Estado_Civil",
            "nullable": true,
            "type": "string"
           },
           {
            "metadata": {},
            "name": "Num_Filhos",
            "nullable": true,
            "type": "integer"
           },
           {
            "metadata": {},
            "name": "Nivel_Escolar",
            "nullable": true,
            "type": "string"
           },
           {
            "metadata": {},
            "name": "Documento",
            "nullable": true,
            "type": "long"
           },
           {
            "metadata": {},
            "name": "Id_Localidade",
            "nullable": true,
            "type": "integer"
           }
          ],
          "type": "struct"
         },
         "tableIdentifier": null,
         "typeStr": "pyspark.sql.connect.dataframe.DataFrame"
        }
       ],
       "dbfsResultPath": null,
       "isJsonSchema": true,
       "metadata": {
        "createTempViewForImplicitDf": true,
        "dataframeName": "_sqldf",
        "executionCount": 2
       },
       "overflow": false,
       "plotOptions": {
        "customPlotOptions": {},
        "displayType": "table",
        "pivotAggregation": null,
        "pivotColumns": null,
        "xColumns": null,
        "yColumns": null
       },
       "removedWidgets": [],
       "schema": [
        {
         "metadata": "{}",
         "name": "ID_Cliente",
         "type": "\"integer\""
        },
        {
         "metadata": "{}",
         "name": "Primeiro_Nome",
         "type": "\"string\""
        },
        {
         "metadata": "{}",
         "name": "Sobrenome",
         "type": "\"string\""
        },
        {
         "metadata": "{}",
         "name": "Email",
         "type": "\"string\""
        },
        {
         "metadata": "{}",
         "name": "Genero",
         "type": "\"string\""
        },
        {
         "metadata": "{\"__detected_date_formats\": \"d/M/yyyy\"}",
         "name": "Data_Nascimento",
         "type": "\"date\""
        },
        {
         "metadata": "{}",
         "name": "Estado_Civil",
         "type": "\"string\""
        },
        {
         "metadata": "{}",
         "name": "Num_Filhos",
         "type": "\"integer\""
        },
        {
         "metadata": "{}",
         "name": "Nivel_Escolar",
         "type": "\"string\""
        },
        {
         "metadata": "{}",
         "name": "Documento",
         "type": "\"long\""
        },
        {
         "metadata": "{}",
         "name": "Id_Localidade",
         "type": "\"integer\""
        }
       ],
       "type": "table"
      }
     },
     "output_type": "display_data"
    }
   ],
   "source": [
    "-- Verificando os dados tabela\n",
    "SELECT * FROM Clientes LIMIT 20;"
   ]
  },
  {
   "cell_type": "code",
   "execution_count": 0,
   "metadata": {
    "application/vnd.databricks.v1+cell": {
     "cellMetadata": {
      "byteLimit": 2048000,
      "rowLimit": 10000
     },
     "inputWidgets": {},
     "nuid": "f74ca7a3-c875-471e-9035-1fb8230d85f9",
     "showTitle": false,
     "tableResultSettingsMap": {},
     "title": ""
    }
   },
   "outputs": [
    {
     "output_type": "display_data",
     "data": {
      "text/html": [
       "<style scoped>\n",
       "  .table-result-container {\n",
       "    max-height: 300px;\n",
       "    overflow: auto;\n",
       "  }\n",
       "  table, th, td {\n",
       "    border: 1px solid black;\n",
       "    border-collapse: collapse;\n",
       "  }\n",
       "  th, td {\n",
       "    padding: 5px;\n",
       "  }\n",
       "  th {\n",
       "    text-align: left;\n",
       "  }\n",
       "</style><div class='table-result-container'><table class='table-result'><thead style='background-color: white'><tr><th>Total_Clientes</th></tr></thead><tbody><tr><td>18148</td></tr></tbody></table></div>"
      ]
     },
     "metadata": {
      "application/vnd.databricks.v1+output": {
       "addedWidgets": {},
       "aggData": [],
       "aggError": "",
       "aggOverflow": false,
       "aggSchema": [],
       "aggSeriesLimitReached": false,
       "aggType": "",
       "arguments": {},
       "columnCustomDisplayInfos": {},
       "data": [
        [
         18148
        ]
       ],
       "datasetInfos": [
        {
         "name": "_sqldf",
         "schema": {
          "fields": [
           {
            "metadata": {},
            "name": "Total_Clientes",
            "nullable": false,
            "type": "long"
           }
          ],
          "type": "struct"
         },
         "tableIdentifier": null,
         "typeStr": "pyspark.sql.connect.dataframe.DataFrame"
        }
       ],
       "dbfsResultPath": null,
       "isJsonSchema": true,
       "metadata": {
        "createTempViewForImplicitDf": true,
        "dataframeName": "_sqldf",
        "executionCount": 46
       },
       "overflow": false,
       "plotOptions": {
        "customPlotOptions": {},
        "displayType": "table",
        "pivotAggregation": null,
        "pivotColumns": null,
        "xColumns": null,
        "yColumns": null
       },
       "removedWidgets": [],
       "schema": [
        {
         "metadata": "{}",
         "name": "Total_Clientes",
         "type": "\"long\""
        }
       ],
       "type": "table"
      }
     },
     "output_type": "display_data"
    }
   ],
   "source": [
    "-- Verificando o total de registros\n",
    "SELECT COUNT(*) AS Total_Clientes FROM Clientes;"
   ]
  },
  {
   "cell_type": "code",
   "execution_count": 0,
   "metadata": {
    "application/vnd.databricks.v1+cell": {
     "cellMetadata": {
      "byteLimit": 2048000,
      "rowLimit": 10000
     },
     "inputWidgets": {},
     "nuid": "da55d4ac-9a67-4513-9852-8496a588df3c",
     "showTitle": false,
     "tableResultSettingsMap": {},
     "title": ""
    }
   },
   "outputs": [
    {
     "output_type": "display_data",
     "data": {
      "text/html": [
       "<style scoped>\n",
       "  .table-result-container {\n",
       "    max-height: 300px;\n",
       "    overflow: auto;\n",
       "  }\n",
       "  table, th, td {\n",
       "    border: 1px solid black;\n",
       "    border-collapse: collapse;\n",
       "  }\n",
       "  th, td {\n",
       "    padding: 5px;\n",
       "  }\n",
       "  th {\n",
       "    text-align: left;\n",
       "  }\n",
       "</style><div class='table-result-container'><table class='table-result'><thead style='background-color: white'><tr><th>col_name</th><th>data_type</th><th>comment</th></tr></thead><tbody><tr><td>ID_Cliente</td><td>int</td><td>null</td></tr><tr><td>Primeiro_Nome</td><td>string</td><td>null</td></tr><tr><td>Sobrenome</td><td>string</td><td>null</td></tr><tr><td>Email</td><td>string</td><td>null</td></tr><tr><td>Genero</td><td>string</td><td>null</td></tr><tr><td>Data_Nascimento</td><td>date</td><td>null</td></tr><tr><td>Estado_Civil</td><td>string</td><td>null</td></tr><tr><td>Num_Filhos</td><td>int</td><td>null</td></tr><tr><td>Nivel_Escolar</td><td>string</td><td>null</td></tr><tr><td>Documento</td><td>bigint</td><td>null</td></tr><tr><td>Id_Localidade</td><td>int</td><td>null</td></tr></tbody></table></div>"
      ]
     },
     "metadata": {
      "application/vnd.databricks.v1+output": {
       "addedWidgets": {},
       "aggData": [],
       "aggError": "",
       "aggOverflow": false,
       "aggSchema": [],
       "aggSeriesLimitReached": false,
       "aggType": "",
       "arguments": {},
       "columnCustomDisplayInfos": {},
       "data": [
        [
         "ID_Cliente",
         "int",
         null
        ],
        [
         "Primeiro_Nome",
         "string",
         null
        ],
        [
         "Sobrenome",
         "string",
         null
        ],
        [
         "Email",
         "string",
         null
        ],
        [
         "Genero",
         "string",
         null
        ],
        [
         "Data_Nascimento",
         "date",
         null
        ],
        [
         "Estado_Civil",
         "string",
         null
        ],
        [
         "Num_Filhos",
         "int",
         null
        ],
        [
         "Nivel_Escolar",
         "string",
         null
        ],
        [
         "Documento",
         "bigint",
         null
        ],
        [
         "Id_Localidade",
         "int",
         null
        ]
       ],
       "datasetInfos": [
        {
         "name": "_sqldf",
         "schema": {
          "fields": [
           {
            "metadata": {},
            "name": "col_name",
            "nullable": false,
            "type": "string"
           },
           {
            "metadata": {},
            "name": "data_type",
            "nullable": false,
            "type": "string"
           },
           {
            "metadata": {},
            "name": "comment",
            "nullable": true,
            "type": "string"
           }
          ],
          "type": "struct"
         },
         "tableIdentifier": null,
         "typeStr": "pyspark.sql.connect.dataframe.DataFrame"
        }
       ],
       "dbfsResultPath": null,
       "isJsonSchema": true,
       "metadata": {
        "createTempViewForImplicitDf": true,
        "dataframeName": "_sqldf",
        "executionCount": 8
       },
       "overflow": false,
       "plotOptions": {
        "customPlotOptions": {},
        "displayType": "table",
        "pivotAggregation": null,
        "pivotColumns": null,
        "xColumns": null,
        "yColumns": null
       },
       "removedWidgets": [],
       "schema": [
        {
         "metadata": "{}",
         "name": "col_name",
         "type": "\"string\""
        },
        {
         "metadata": "{}",
         "name": "data_type",
         "type": "\"string\""
        },
        {
         "metadata": "{}",
         "name": "comment",
         "type": "\"string\""
        }
       ],
       "type": "table"
      }
     },
     "output_type": "display_data"
    }
   ],
   "source": [
    "-- Verificando os tipos de dados\n",
    "DESCRIBE Clientes;"
   ]
  },
  {
   "cell_type": "code",
   "execution_count": 0,
   "metadata": {
    "application/vnd.databricks.v1+cell": {
     "cellMetadata": {
      "byteLimit": 2048000,
      "rowLimit": 10000
     },
     "inputWidgets": {},
     "nuid": "e0944056-6930-4ad1-84f4-6bb6b8b94ccb",
     "showTitle": false,
     "tableResultSettingsMap": {},
     "title": ""
    }
   },
   "outputs": [
    {
     "output_type": "display_data",
     "data": {
      "text/html": [
       "<style scoped>\n",
       "  .table-result-container {\n",
       "    max-height: 300px;\n",
       "    overflow: auto;\n",
       "  }\n",
       "  table, th, td {\n",
       "    border: 1px solid black;\n",
       "    border-collapse: collapse;\n",
       "  }\n",
       "  th, td {\n",
       "    padding: 5px;\n",
       "  }\n",
       "  th {\n",
       "    text-align: left;\n",
       "  }\n",
       "</style><div class='table-result-container'><table class='table-result'><thead style='background-color: white'><tr><th>quantidade_duplicados</th></tr></thead><tbody></tbody></table></div>"
      ]
     },
     "metadata": {
      "application/vnd.databricks.v1+output": {
       "addedWidgets": {},
       "aggData": [],
       "aggError": "",
       "aggOverflow": false,
       "aggSchema": [],
       "aggSeriesLimitReached": false,
       "aggType": "",
       "arguments": {},
       "columnCustomDisplayInfos": {},
       "data": [],
       "datasetInfos": [
        {
         "name": "_sqldf",
         "schema": {
          "fields": [
           {
            "metadata": {},
            "name": "quantidade_duplicados",
            "nullable": false,
            "type": "long"
           }
          ],
          "type": "struct"
         },
         "tableIdentifier": null,
         "typeStr": "pyspark.sql.connect.dataframe.DataFrame"
        }
       ],
       "dbfsResultPath": null,
       "isJsonSchema": true,
       "metadata": {
        "createTempViewForImplicitDf": true,
        "dataframeName": "_sqldf",
        "executionCount": 23
       },
       "overflow": false,
       "plotOptions": {
        "customPlotOptions": {},
        "displayType": "table",
        "pivotAggregation": null,
        "pivotColumns": null,
        "xColumns": null,
        "yColumns": null
       },
       "removedWidgets": [],
       "schema": [
        {
         "metadata": "{}",
         "name": "quantidade_duplicados",
         "type": "\"long\""
        }
       ],
       "type": "table"
      }
     },
     "output_type": "display_data"
    }
   ],
   "source": [
    "-- Verificando dados duplicados\n",
    "SELECT \n",
    "    COUNT(*) AS quantidade_duplicados\n",
    "FROM \n",
    "    Clientes\n",
    "GROUP BY \n",
    "    id_cliente, primeiro_nome, sobrenome, email, genero, \n",
    "    data_nascimento, estado_civil, num_filhos, nivel_escolar, \n",
    "    documento, id_localidade\n",
    "HAVING \n",
    "    COUNT(*) > 1;"
   ]
  },
  {
   "cell_type": "code",
   "execution_count": 0,
   "metadata": {
    "application/vnd.databricks.v1+cell": {
     "cellMetadata": {
      "byteLimit": 2048000,
      "rowLimit": 10000
     },
     "inputWidgets": {},
     "nuid": "9adb0ef6-db66-431e-a1a2-6d82642b6ea3",
     "showTitle": false,
     "tableResultSettingsMap": {},
     "title": ""
    }
   },
   "outputs": [
    {
     "output_type": "display_data",
     "data": {
      "text/html": [
       "<style scoped>\n",
       "  .table-result-container {\n",
       "    max-height: 300px;\n",
       "    overflow: auto;\n",
       "  }\n",
       "  table, th, td {\n",
       "    border: 1px solid black;\n",
       "    border-collapse: collapse;\n",
       "  }\n",
       "  th, td {\n",
       "    padding: 5px;\n",
       "  }\n",
       "  th {\n",
       "    text-align: left;\n",
       "  }\n",
       "</style><div class='table-result-container'><table class='table-result'><thead style='background-color: white'><tr><th>ID_Cliente</th><th>Primeiro_Nome</th><th>Sobrenome</th><th>Email</th><th>Genero</th><th>Data_Nascimento</th><th>Estado_Civil</th><th>Num_Filhos</th><th>Nivel_Escolar</th><th>Documento</th><th>Id_Localidade</th></tr></thead><tbody></tbody></table></div>"
      ]
     },
     "metadata": {
      "application/vnd.databricks.v1+output": {
       "addedWidgets": {},
       "aggData": [],
       "aggError": "",
       "aggOverflow": false,
       "aggSchema": [],
       "aggSeriesLimitReached": false,
       "aggType": "",
       "arguments": {},
       "columnCustomDisplayInfos": {},
       "data": [],
       "datasetInfos": [
        {
         "name": "_sqldf",
         "schema": {
          "fields": [
           {
            "metadata": {},
            "name": "ID_Cliente",
            "nullable": true,
            "type": "integer"
           },
           {
            "metadata": {},
            "name": "Primeiro_Nome",
            "nullable": true,
            "type": "string"
           },
           {
            "metadata": {},
            "name": "Sobrenome",
            "nullable": true,
            "type": "string"
           },
           {
            "metadata": {},
            "name": "Email",
            "nullable": true,
            "type": "string"
           },
           {
            "metadata": {},
            "name": "Genero",
            "nullable": true,
            "type": "string"
           },
           {
            "metadata": {
             "__detected_date_formats": "d/M/yyyy"
            },
            "name": "Data_Nascimento",
            "nullable": true,
            "type": "date"
           },
           {
            "metadata": {},
            "name": "Estado_Civil",
            "nullable": true,
            "type": "string"
           },
           {
            "metadata": {},
            "name": "Num_Filhos",
            "nullable": true,
            "type": "integer"
           },
           {
            "metadata": {},
            "name": "Nivel_Escolar",
            "nullable": true,
            "type": "string"
           },
           {
            "metadata": {},
            "name": "Documento",
            "nullable": true,
            "type": "long"
           },
           {
            "metadata": {},
            "name": "Id_Localidade",
            "nullable": true,
            "type": "integer"
           }
          ],
          "type": "struct"
         },
         "tableIdentifier": null,
         "typeStr": "pyspark.sql.connect.dataframe.DataFrame"
        }
       ],
       "dbfsResultPath": null,
       "isJsonSchema": true,
       "metadata": {
        "createTempViewForImplicitDf": true,
        "dataframeName": "_sqldf",
        "executionCount": 31
       },
       "overflow": false,
       "plotOptions": {
        "customPlotOptions": {},
        "displayType": "table",
        "pivotAggregation": null,
        "pivotColumns": null,
        "xColumns": null,
        "yColumns": null
       },
       "removedWidgets": [],
       "schema": [
        {
         "metadata": "{}",
         "name": "ID_Cliente",
         "type": "\"integer\""
        },
        {
         "metadata": "{}",
         "name": "Primeiro_Nome",
         "type": "\"string\""
        },
        {
         "metadata": "{}",
         "name": "Sobrenome",
         "type": "\"string\""
        },
        {
         "metadata": "{}",
         "name": "Email",
         "type": "\"string\""
        },
        {
         "metadata": "{}",
         "name": "Genero",
         "type": "\"string\""
        },
        {
         "metadata": "{\"__detected_date_formats\": \"d/M/yyyy\"}",
         "name": "Data_Nascimento",
         "type": "\"date\""
        },
        {
         "metadata": "{}",
         "name": "Estado_Civil",
         "type": "\"string\""
        },
        {
         "metadata": "{}",
         "name": "Num_Filhos",
         "type": "\"integer\""
        },
        {
         "metadata": "{}",
         "name": "Nivel_Escolar",
         "type": "\"string\""
        },
        {
         "metadata": "{}",
         "name": "Documento",
         "type": "\"long\""
        },
        {
         "metadata": "{}",
         "name": "Id_Localidade",
         "type": "\"integer\""
        }
       ],
       "type": "table"
      }
     },
     "output_type": "display_data"
    }
   ],
   "source": [
    "-- Verificando valores nulos\n",
    "SELECT \n",
    "  * \n",
    "FROM Clientes \n",
    "WHERE id_cliente IS NULL OR\n",
    "  primeiro_nome IS NULL OR\n",
    "  sobrenome IS NULL OR\n",
    "  email IS NULL OR\n",
    "  genero IS NULL OR\n",
    "  data_nascimento IS NULL OR\n",
    "  estado_civil IS NULL OR\n",
    "  num_filhos IS NULL OR\n",
    "  nivel_escolar IS NULL OR\n",
    "  documento IS NULL OR\n",
    "  id_localidade IS NULL;\n"
   ]
  },
  {
   "cell_type": "markdown",
   "metadata": {
    "application/vnd.databricks.v1+cell": {
     "cellMetadata": {},
     "inputWidgets": {},
     "nuid": "ee6fcf40-09e7-4f4d-b7ba-0a5a6c580d91",
     "showTitle": false,
     "tableResultSettingsMap": {},
     "title": ""
    }
   },
   "source": []
  }
 ],
 "metadata": {
  "application/vnd.databricks.v1+notebook": {
   "computePreferences": null,
   "dashboards": [],
   "environmentMetadata": {
    "base_environment": "",
    "environment_version": "2"
   },
   "inputWidgetPreferences": null,
   "language": "sql",
   "notebookMetadata": {
    "pythonIndentUnit": 4
   },
   "notebookName": "Projeto Análise de Vendas de Produtos",
   "widgets": {}
  },
  "language_info": {
   "name": "sql"
  }
 },
 "nbformat": 4,
 "nbformat_minor": 0
}
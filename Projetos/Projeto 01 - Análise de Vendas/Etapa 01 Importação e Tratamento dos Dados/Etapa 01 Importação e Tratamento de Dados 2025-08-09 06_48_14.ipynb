{
 "cells": [
  {
   "cell_type": "markdown",
   "metadata": {
    "application/vnd.databricks.v1+cell": {
     "cellMetadata": {
      "byteLimit": 2048000,
      "rowLimit": 10000
     },
     "inputWidgets": {},
     "nuid": "09ae01bf-6c00-45a1-9ac6-fd6550191524",
     "showTitle": false,
     "tableResultSettingsMap": {},
     "title": ""
    }
   },
   "source": [
    "## \uD83D\uDCCA Etapa 01 - Importação e Tratamento de Dados\n",
    "\n",
    "### 1. Introdução e Contexto\n",
    "\n",
    "Nesta primeira etapa, focamos na **importação, validação e limpeza** dos dados que serão utilizados nas próximas análises.\n",
    "\n",
    "**Objetivos principais:**\n",
    "- Importar dados de múltiplas fontes CSV\n",
    "- Realizar análise exploratória (EDA) completa\n",
    "- Garantir a qualidade dos dados através de tratamentos adequados\n",
    "\n",
    "**Tecnologias utilizadas:**\n",
    "- \uD83D\uDEE2️ `Linguagem SQL` \n",
    "- \uD83D\uDCCB `Databricks`\n",
    "\n",
    "**Escopo do projeto:**\n",
    "- 7 tabelas relacionadas ao processo de vendas\n",
    "- Dados históricos de 3 anos\n",
    "- Processo completo de ETL (Extract, Transform, Load)"
   ]
  },
  {
   "cell_type": "markdown",
   "metadata": {
    "application/vnd.databricks.v1+cell": {
     "cellMetadata": {
      "byteLimit": 2048000,
      "rowLimit": 10000
     },
     "inputWidgets": {},
     "nuid": "013e3c46-c591-4422-a85a-e9cd9b6728ce",
     "showTitle": false,
     "tableResultSettingsMap": {},
     "title": ""
    }
   },
   "source": [
    "### 2. Fontes de Dados\n",
    "\n",
    "Os dados utilizados neste projeto foram extraídos do sistema ERP da empresa e fornecidos em formato CSV.\n",
    "\n",
    "**Estrutura de arquivos:**\n",
    "\n",
    "\n",
    "| Tabela     | Descrição                     \t\t\t\t\t\t\t\t\t\t   | \n",
    "|------------|--------------------------------------------------------------------------|\n",
    "|*Clientes*    |Contém informações cadastrais e demográficas detalhadas de cada clientes. |\n",
    "|*Devoluções*  |Registra as devoluções dos produtos.\n",
    "|*Itens*\t\t | Detalha os itens vendidos em cada venda.\n",
    "|*Localidades* | Armazena informações geográficas das lojas.\t\t\t\n",
    "|*Lojas*\t\t | Contém informações sobre as lojas.\n",
    "|*Produtos*\t | Armazena informações sobre os produtos vendidos.\n",
    "|*Vendas*      | Registra as vendas realizadas.\n",
    "\n",
    "### 3.Importação dos dados\n",
    "\n",
    "#### 3.1 Upload dos arquivos para o Ambiente Databricks\n",
    "\n",
    "<p align=\"justify\">\n",
    "\t\n",
    "\n",
    "Neste projeto, os dados foram carregados diretamente como **tabelas** no ambiente Databricks, utilizando arquivos no formato CSV. O carregamento dos arquivos CSV (clientes, devoluções, itens, localidades, lojas, produtos e vendas) foi realizado para o DBFS (Databricks File System), o sistema de arquivos distribuído nativo da plataforma.\n",
    "![](/Workspace/Users/edutrindade97@gmail.com/Imagens/importando_csv.png)\n",
    "\n"
   ]
  },
  {
   "cell_type": "markdown",
   "metadata": {
    "application/vnd.databricks.v1+cell": {
     "cellMetadata": {},
     "inputWidgets": {},
     "nuid": "d44d2e42-6561-47f0-a8ae-287c652fcdf1",
     "showTitle": false,
     "tableResultSettingsMap": {},
     "title": ""
    }
   },
   "source": [
    "### 4. Exploração Inicial dos dados\n",
    "A **Análise Exploratória de Dados (EDA** - *Exploratory Data Analysis*) é uma etapa fundamental no tratamento de dados, onde investigamos o conjunto de dados para entender suas características, identificar problemas e preparação para modelagem dos dados.\n",
    "\n",
    "Técnicas aplicadas:\n",
    "\n",
    "✅ Verificação de estrutura e tipos de dados da tabela\n",
    "\n",
    "\uD83D\uDD0D Identificação de valores ausentes (NULL)\n",
    "\n",
    "\uD83E\uDDF9 Detecção e tratamento de duplicatas\n",
    "\n",
    "\uD83D\uDCD0 Padronização de formatos (datas, textos)\n",
    "\n",
    "\uD83D\uDEA8 Identificação de outliers e inconsistências\n"
   ]
  },
  {
   "cell_type": "markdown",
   "metadata": {
    "application/vnd.databricks.v1+cell": {
     "cellMetadata": {},
     "inputWidgets": {},
     "nuid": "90a062fd-bc61-48a4-8258-9e516b049a82",
     "showTitle": false,
     "tableResultSettingsMap": {},
     "title": ""
    }
   },
   "source": [
    "#### 4.1 Tabela Clientes\n",
    "<hr>"
   ]
  },
  {
   "cell_type": "code",
   "execution_count": 0,
   "metadata": {
    "application/vnd.databricks.v1+cell": {
     "cellMetadata": {
      "byteLimit": 2048000,
      "rowLimit": 10000
     },
     "inputWidgets": {},
     "nuid": "957c06a8-a2cc-4f26-a611-25eceb18147e",
     "showTitle": false,
     "tableResultSettingsMap": {},
     "title": ""
    }
   },
   "outputs": [
    {
     "output_type": "display_data",
     "data": {
      "text/html": [
       "<style scoped>\n",
       "  .table-result-container {\n",
       "    max-height: 300px;\n",
       "    overflow: auto;\n",
       "  }\n",
       "  table, th, td {\n",
       "    border: 1px solid black;\n",
       "    border-collapse: collapse;\n",
       "  }\n",
       "  th, td {\n",
       "    padding: 5px;\n",
       "  }\n",
       "  th {\n",
       "    text-align: left;\n",
       "  }\n",
       "</style><div class='table-result-container'><table class='table-result'><thead style='background-color: white'><tr><th>ID_Cliente</th><th>Primeiro_Nome</th><th>Sobrenome</th><th>Email</th><th>Genero</th><th>Data_Nascimento</th><th>Estado_Civil</th><th>Num_Filhos</th><th>Nivel_Escolar</th><th>Documento</th><th>Id_Localidade</th></tr></thead><tbody><tr><td>11000</td><td>STHEFESON</td><td>PEREIRA</td><td>sthefeson8@icloud.com</td><td>M</td><td>1966-08-04</td><td>C</td><td>2</td><td>Superior Completo</td><td>80912350</td><td>32</td></tr><tr><td>11001</td><td>ANTONIO</td><td>MANHÃES</td><td>antonio19@hotmail.com.br</td><td>M</td><td>1965-05-14</td><td>S</td><td>3</td><td>Superior Completo</td><td>18106981686</td><td>30</td></tr><tr><td>11002</td><td>BIANCA</td><td>PAZ</td><td>bianca53@live.com.br</td><td>F</td><td>1965-12-08</td><td>C</td><td>3</td><td>Superior Completo</td><td>77468986692</td><td>24</td></tr><tr><td>11003</td><td>SILVIO</td><td>FAHRNHOLZ</td><td>silvio21@hotmail.com.br</td><td>M</td><td>1968-02-15</td><td>S</td><td>0</td><td>Superior Completo</td><td>28009530521</td><td>1</td></tr><tr><td>11004</td><td>LUIZA</td><td>CABRAL</td><td>luiza70@msn.com</td><td>F</td><td>1968-08-08</td><td>S</td><td>5</td><td>Superior Completo</td><td>16316472002</td><td>4</td></tr><tr><td>11005</td><td>ANA</td><td>SILVA</td><td>ana59@outlook.com.br</td><td>F</td><td>1965-05-08</td><td>S</td><td>0</td><td>Superior Completo</td><td>4013622223</td><td>21</td></tr><tr><td>11007</td><td>NATALIA</td><td>MARINHO</td><td>natalia44@icloud.com</td><td>F</td><td>1964-09-05</td><td>C</td><td>3</td><td>Superior Completo</td><td>37087830006</td><td>34</td></tr><tr><td>11008</td><td>LEONARDO</td><td>FERREIRA</td><td>leonardo63@yahoo.com.br</td><td>M</td><td>1964-07-07</td><td>S</td><td>4</td><td>Superior Completo</td><td>81547961498</td><td>12</td></tr><tr><td>11009</td><td>CHAN</td><td>SANTOS</td><td>chan17@uol.com</td><td>F</td><td>1964-01-04</td><td>S</td><td>0</td><td>Superior Completo</td><td>9307863580</td><td>16</td></tr><tr><td>11010</td><td>FERNANDA</td><td>FERREIRA</td><td>fernanda31@yahoo.com</td><td>F</td><td>1964-06-02</td><td>S</td><td>0</td><td>Superior Completo</td><td>65608656996</td><td>17</td></tr><tr><td>11011</td><td>RAISSA</td><td>NEGRELLI</td><td>raissa28@yahoo.com.br</td><td>F</td><td>1963-04-11</td><td>C</td><td>4</td><td>Superior Completo</td><td>1811326</td><td>5</td></tr><tr><td>11012</td><td>ARTHUR</td><td>ROCHA</td><td>arthur41@uol.com</td><td>M</td><td>1968-01-18</td><td>C</td><td>2</td><td>Superior Completo</td><td>30339354628</td><td>11</td></tr><tr><td>11013</td><td>EDUARDO</td><td>SILVA</td><td>eduardo57@live.com.br</td><td>M</td><td>1968-06-08</td><td>C</td><td>2</td><td>Superior Completo</td><td>9686016920</td><td>7</td></tr><tr><td>11014</td><td>JOÃO</td><td>AIRES</td><td>joão17@live.com</td><td>M</td><td>1968-09-05</td><td>S</td><td>3</td><td>Superior Completo</td><td>67853074692</td><td>32</td></tr><tr><td>11015</td><td>CAIO</td><td>CALDAS</td><td>caio60@gmail.com.br</td><td>M</td><td>1979-02-27</td><td>S</td><td>0</td><td>Superior Incompleto</td><td>37983501514</td><td>33</td></tr><tr><td>11016</td><td>TIAGO</td><td>PEREIRA</td><td>tiago48@icloud.com.br</td><td>M</td><td>1979-04-28</td><td>C</td><td>0</td><td>Superior Incompleto</td><td>77981752829</td><td>12</td></tr><tr><td>11017</td><td>JULIA</td><td>PENTEADO</td><td>julia36@terra.com.br</td><td>F</td><td>1944-06-26</td><td>S</td><td>4</td><td>Ensino Médio Completo</td><td>49079518582</td><td>13</td></tr><tr><td>11018</td><td>BERNARDO</td><td>BOTELHO</td><td>bernardo50@outlook.com</td><td>M</td><td>1944-09-10</td><td>S</td><td>2</td><td>Superior Incompleto</td><td>25692001926</td><td>3</td></tr><tr><td>11019</td><td>VICTOR</td><td>FERREIRA</td><td>victor4@msn.com.br</td><td>M</td><td>2003-05-15</td><td>S</td><td>0</td><td>Ensino Médio Completo</td><td>36490461255</td><td>2</td></tr><tr><td>11020</td><td>THAYS</td><td>CASTRO</td><td>thays23@uol.com</td><td>F</td><td>2003-11-28</td><td>S</td><td>0</td><td>Ensino Médio Completo</td><td>43384364592</td><td>4</td></tr></tbody></table></div>"
      ]
     },
     "metadata": {
      "application/vnd.databricks.v1+output": {
       "addedWidgets": {},
       "aggData": [],
       "aggError": "",
       "aggOverflow": false,
       "aggSchema": [],
       "aggSeriesLimitReached": false,
       "aggType": "",
       "arguments": {},
       "columnCustomDisplayInfos": {},
       "data": [
        [
         11000,
         "STHEFESON",
         "PEREIRA",
         "sthefeson8@icloud.com",
         "M",
         "1966-08-04",
         "C",
         2,
         "Superior Completo",
         80912350,
         32
        ],
        [
         11001,
         "ANTONIO",
         "MANHÃES",
         "antonio19@hotmail.com.br",
         "M",
         "1965-05-14",
         "S",
         3,
         "Superior Completo",
         18106981686,
         30
        ],
        [
         11002,
         "BIANCA",
         "PAZ",
         "bianca53@live.com.br",
         "F",
         "1965-12-08",
         "C",
         3,
         "Superior Completo",
         77468986692,
         24
        ],
        [
         11003,
         "SILVIO",
         "FAHRNHOLZ",
         "silvio21@hotmail.com.br",
         "M",
         "1968-02-15",
         "S",
         0,
         "Superior Completo",
         28009530521,
         1
        ],
        [
         11004,
         "LUIZA",
         "CABRAL",
         "luiza70@msn.com",
         "F",
         "1968-08-08",
         "S",
         5,
         "Superior Completo",
         16316472002,
         4
        ],
        [
         11005,
         "ANA",
         "SILVA",
         "ana59@outlook.com.br",
         "F",
         "1965-05-08",
         "S",
         0,
         "Superior Completo",
         4013622223,
         21
        ],
        [
         11007,
         "NATALIA",
         "MARINHO",
         "natalia44@icloud.com",
         "F",
         "1964-09-05",
         "C",
         3,
         "Superior Completo",
         37087830006,
         34
        ],
        [
         11008,
         "LEONARDO",
         "FERREIRA",
         "leonardo63@yahoo.com.br",
         "M",
         "1964-07-07",
         "S",
         4,
         "Superior Completo",
         81547961498,
         12
        ],
        [
         11009,
         "CHAN",
         "SANTOS",
         "chan17@uol.com",
         "F",
         "1964-01-04",
         "S",
         0,
         "Superior Completo",
         9307863580,
         16
        ],
        [
         11010,
         "FERNANDA",
         "FERREIRA",
         "fernanda31@yahoo.com",
         "F",
         "1964-06-02",
         "S",
         0,
         "Superior Completo",
         65608656996,
         17
        ],
        [
         11011,
         "RAISSA",
         "NEGRELLI",
         "raissa28@yahoo.com.br",
         "F",
         "1963-04-11",
         "C",
         4,
         "Superior Completo",
         1811326,
         5
        ],
        [
         11012,
         "ARTHUR",
         "ROCHA",
         "arthur41@uol.com",
         "M",
         "1968-01-18",
         "C",
         2,
         "Superior Completo",
         30339354628,
         11
        ],
        [
         11013,
         "EDUARDO",
         "SILVA",
         "eduardo57@live.com.br",
         "M",
         "1968-06-08",
         "C",
         2,
         "Superior Completo",
         9686016920,
         7
        ],
        [
         11014,
         "JOÃO",
         "AIRES",
         "joão17@live.com",
         "M",
         "1968-09-05",
         "S",
         3,
         "Superior Completo",
         67853074692,
         32
        ],
        [
         11015,
         "CAIO",
         "CALDAS",
         "caio60@gmail.com.br",
         "M",
         "1979-02-27",
         "S",
         0,
         "Superior Incompleto",
         37983501514,
         33
        ],
        [
         11016,
         "TIAGO",
         "PEREIRA",
         "tiago48@icloud.com.br",
         "M",
         "1979-04-28",
         "C",
         0,
         "Superior Incompleto",
         77981752829,
         12
        ],
        [
         11017,
         "JULIA",
         "PENTEADO",
         "julia36@terra.com.br",
         "F",
         "1944-06-26",
         "S",
         4,
         "Ensino Médio Completo",
         49079518582,
         13
        ],
        [
         11018,
         "BERNARDO",
         "BOTELHO",
         "bernardo50@outlook.com",
         "M",
         "1944-09-10",
         "S",
         2,
         "Superior Incompleto",
         25692001926,
         3
        ],
        [
         11019,
         "VICTOR",
         "FERREIRA",
         "victor4@msn.com.br",
         "M",
         "2003-05-15",
         "S",
         0,
         "Ensino Médio Completo",
         36490461255,
         2
        ],
        [
         11020,
         "THAYS",
         "CASTRO",
         "thays23@uol.com",
         "F",
         "2003-11-28",
         "S",
         0,
         "Ensino Médio Completo",
         43384364592,
         4
        ]
       ],
       "datasetInfos": [
        {
         "name": "_sqldf",
         "schema": {
          "fields": [
           {
            "metadata": {},
            "name": "ID_Cliente",
            "nullable": true,
            "type": "long"
           },
           {
            "metadata": {},
            "name": "Primeiro_Nome",
            "nullable": true,
            "type": "string"
           },
           {
            "metadata": {},
            "name": "Sobrenome",
            "nullable": true,
            "type": "string"
           },
           {
            "metadata": {},
            "name": "Email",
            "nullable": true,
            "type": "string"
           },
           {
            "metadata": {},
            "name": "Genero",
            "nullable": true,
            "type": "string"
           },
           {
            "metadata": {
             "__detected_date_formats": "d/M/yyyy"
            },
            "name": "Data_Nascimento",
            "nullable": true,
            "type": "date"
           },
           {
            "metadata": {},
            "name": "Estado_Civil",
            "nullable": true,
            "type": "string"
           },
           {
            "metadata": {},
            "name": "Num_Filhos",
            "nullable": true,
            "type": "long"
           },
           {
            "metadata": {},
            "name": "Nivel_Escolar",
            "nullable": true,
            "type": "string"
           },
           {
            "metadata": {},
            "name": "Documento",
            "nullable": true,
            "type": "long"
           },
           {
            "metadata": {},
            "name": "Id_Localidade",
            "nullable": true,
            "type": "long"
           }
          ],
          "type": "struct"
         },
         "tableIdentifier": null,
         "typeStr": "pyspark.sql.connect.dataframe.DataFrame"
        }
       ],
       "dbfsResultPath": null,
       "isJsonSchema": true,
       "metadata": {
        "createTempViewForImplicitDf": true,
        "dataframeName": "_sqldf",
        "executionCount": 3
       },
       "overflow": false,
       "plotOptions": {
        "customPlotOptions": {},
        "displayType": "table",
        "pivotAggregation": null,
        "pivotColumns": null,
        "xColumns": null,
        "yColumns": null
       },
       "removedWidgets": [],
       "schema": [
        {
         "metadata": "{}",
         "name": "ID_Cliente",
         "type": "\"long\""
        },
        {
         "metadata": "{}",
         "name": "Primeiro_Nome",
         "type": "\"string\""
        },
        {
         "metadata": "{}",
         "name": "Sobrenome",
         "type": "\"string\""
        },
        {
         "metadata": "{}",
         "name": "Email",
         "type": "\"string\""
        },
        {
         "metadata": "{}",
         "name": "Genero",
         "type": "\"string\""
        },
        {
         "metadata": "{\"__detected_date_formats\": \"d/M/yyyy\"}",
         "name": "Data_Nascimento",
         "type": "\"date\""
        },
        {
         "metadata": "{}",
         "name": "Estado_Civil",
         "type": "\"string\""
        },
        {
         "metadata": "{}",
         "name": "Num_Filhos",
         "type": "\"long\""
        },
        {
         "metadata": "{}",
         "name": "Nivel_Escolar",
         "type": "\"string\""
        },
        {
         "metadata": "{}",
         "name": "Documento",
         "type": "\"long\""
        },
        {
         "metadata": "{}",
         "name": "Id_Localidade",
         "type": "\"long\""
        }
       ],
       "type": "table"
      }
     },
     "output_type": "display_data"
    }
   ],
   "source": [
    "-- Tabela Clientes\n",
    "SELECT * FROM clientes LIMIT 20;"
   ]
  },
  {
   "cell_type": "markdown",
   "metadata": {
    "application/vnd.databricks.v1+cell": {
     "cellMetadata": {},
     "inputWidgets": {},
     "nuid": "3eaa4927-7cbf-4b18-8f6d-108271a523e9",
     "showTitle": false,
     "tableResultSettingsMap": {},
     "title": ""
    }
   },
   "source": [
    "#### 4.1.1 Verificação da estrutura e tipos de dados da tabela"
   ]
  },
  {
   "cell_type": "markdown",
   "metadata": {
    "application/vnd.databricks.v1+cell": {
     "cellMetadata": {},
     "inputWidgets": {},
     "nuid": "154bf30e-a2d2-4519-8f3c-4a3424c514ef",
     "showTitle": false,
     "tableResultSettingsMap": {},
     "title": ""
    }
   },
   "source": [
    "\n",
    "**Informações dos campos da tabela:**\n",
    "- `Cliente_ID`: Identificador único do cliente\n",
    "- `Primeiro_nome`: Nome do cliente\n",
    "- `Sobrenome`: Sobrenome do cliente\n",
    "- `Email`: Endereço de e-mail do cliente\n",
    "- `Genero`: M(Masculino) ou F(Feminino).\n",
    "- `Data_Nascimento`: Data de nascimento no formato AAAA/MM/AA\n",
    "- `Estado_Civil`: C(Casado), S(Solteiro)\n",
    "- `Num_Filhos`: Número de filhos.\n",
    "- `Nivel_Escolar`: (Ensino Médio Incompleto, Superior Incompleto, Ensino Médio Completo, Pós Graduação e Superior Completo).\n",
    "- `Documento`: CPF ou RG\n",
    "- `Id_Localidade`: Código numérico que pode representar cidade, estado ou região"
   ]
  },
  {
   "cell_type": "code",
   "execution_count": 0,
   "metadata": {
    "application/vnd.databricks.v1+cell": {
     "cellMetadata": {
      "byteLimit": 2048000,
      "rowLimit": 10000
     },
     "inputWidgets": {},
     "nuid": "e0450c80-6212-4269-8dfc-edbea6d50946",
     "showTitle": false,
     "tableResultSettingsMap": {},
     "title": ""
    }
   },
   "outputs": [
    {
     "output_type": "display_data",
     "data": {
      "text/html": [
       "<style scoped>\n",
       "  .table-result-container {\n",
       "    max-height: 300px;\n",
       "    overflow: auto;\n",
       "  }\n",
       "  table, th, td {\n",
       "    border: 1px solid black;\n",
       "    border-collapse: collapse;\n",
       "  }\n",
       "  th, td {\n",
       "    padding: 5px;\n",
       "  }\n",
       "  th {\n",
       "    text-align: left;\n",
       "  }\n",
       "</style><div class='table-result-container'><table class='table-result'><thead style='background-color: white'><tr><th>col_name</th><th>data_type</th><th>comment</th></tr></thead><tbody><tr><td>ID_Cliente</td><td>bigint</td><td>null</td></tr><tr><td>Primeiro_Nome</td><td>string</td><td>null</td></tr><tr><td>Sobrenome</td><td>string</td><td>null</td></tr><tr><td>Email</td><td>string</td><td>null</td></tr><tr><td>Genero</td><td>string</td><td>null</td></tr><tr><td>Data_Nascimento</td><td>date</td><td>null</td></tr><tr><td>Estado_Civil</td><td>string</td><td>null</td></tr><tr><td>Num_Filhos</td><td>bigint</td><td>null</td></tr><tr><td>Nivel_Escolar</td><td>string</td><td>null</td></tr><tr><td>Documento</td><td>bigint</td><td>null</td></tr><tr><td>Id_Localidade</td><td>bigint</td><td>null</td></tr></tbody></table></div>"
      ]
     },
     "metadata": {
      "application/vnd.databricks.v1+output": {
       "addedWidgets": {},
       "aggData": [],
       "aggError": "",
       "aggOverflow": false,
       "aggSchema": [],
       "aggSeriesLimitReached": false,
       "aggType": "",
       "arguments": {},
       "columnCustomDisplayInfos": {},
       "data": [
        [
         "ID_Cliente",
         "bigint",
         null
        ],
        [
         "Primeiro_Nome",
         "string",
         null
        ],
        [
         "Sobrenome",
         "string",
         null
        ],
        [
         "Email",
         "string",
         null
        ],
        [
         "Genero",
         "string",
         null
        ],
        [
         "Data_Nascimento",
         "date",
         null
        ],
        [
         "Estado_Civil",
         "string",
         null
        ],
        [
         "Num_Filhos",
         "bigint",
         null
        ],
        [
         "Nivel_Escolar",
         "string",
         null
        ],
        [
         "Documento",
         "bigint",
         null
        ],
        [
         "Id_Localidade",
         "bigint",
         null
        ]
       ],
       "datasetInfos": [
        {
         "name": "_sqldf",
         "schema": {
          "fields": [
           {
            "metadata": {},
            "name": "col_name",
            "nullable": false,
            "type": "string"
           },
           {
            "metadata": {},
            "name": "data_type",
            "nullable": false,
            "type": "string"
           },
           {
            "metadata": {},
            "name": "comment",
            "nullable": true,
            "type": "string"
           }
          ],
          "type": "struct"
         },
         "tableIdentifier": null,
         "typeStr": "pyspark.sql.connect.dataframe.DataFrame"
        }
       ],
       "dbfsResultPath": null,
       "isJsonSchema": true,
       "metadata": {
        "createTempViewForImplicitDf": true,
        "dataframeName": "_sqldf",
        "executionCount": 1
       },
       "overflow": false,
       "plotOptions": {
        "customPlotOptions": {},
        "displayType": "table",
        "pivotAggregation": null,
        "pivotColumns": null,
        "xColumns": null,
        "yColumns": null
       },
       "removedWidgets": [],
       "schema": [
        {
         "metadata": "{}",
         "name": "col_name",
         "type": "\"string\""
        },
        {
         "metadata": "{}",
         "name": "data_type",
         "type": "\"string\""
        },
        {
         "metadata": "{}",
         "name": "comment",
         "type": "\"string\""
        }
       ],
       "type": "table"
      }
     },
     "output_type": "display_data"
    }
   ],
   "source": [
    "-- Tipos de dados\n",
    "DESCRIBE clientes;"
   ]
  },
  {
   "cell_type": "code",
   "execution_count": 0,
   "metadata": {
    "application/vnd.databricks.v1+cell": {
     "cellMetadata": {
      "byteLimit": 2048000,
      "rowLimit": 10000
     },
     "inputWidgets": {},
     "nuid": "82c2c4b8-e57a-44c9-9fb5-ceebfa9f065a",
     "showTitle": false,
     "tableResultSettingsMap": {},
     "title": ""
    }
   },
   "outputs": [
    {
     "output_type": "display_data",
     "data": {
      "text/html": [
       "<style scoped>\n",
       "  .table-result-container {\n",
       "    max-height: 300px;\n",
       "    overflow: auto;\n",
       "  }\n",
       "  table, th, td {\n",
       "    border: 1px solid black;\n",
       "    border-collapse: collapse;\n",
       "  }\n",
       "  th, td {\n",
       "    padding: 5px;\n",
       "  }\n",
       "  th {\n",
       "    text-align: left;\n",
       "  }\n",
       "</style><div class='table-result-container'><table class='table-result'><thead style='background-color: white'><tr><th>total_registros</th></tr></thead><tbody><tr><td>18148</td></tr></tbody></table></div>"
      ]
     },
     "metadata": {
      "application/vnd.databricks.v1+output": {
       "addedWidgets": {},
       "aggData": [],
       "aggError": "",
       "aggOverflow": false,
       "aggSchema": [],
       "aggSeriesLimitReached": false,
       "aggType": "",
       "arguments": {},
       "columnCustomDisplayInfos": {},
       "data": [
        [
         18148
        ]
       ],
       "datasetInfos": [
        {
         "name": "_sqldf",
         "schema": {
          "fields": [
           {
            "metadata": {},
            "name": "total_registros",
            "nullable": false,
            "type": "long"
           }
          ],
          "type": "struct"
         },
         "tableIdentifier": null,
         "typeStr": "pyspark.sql.connect.dataframe.DataFrame"
        }
       ],
       "dbfsResultPath": null,
       "isJsonSchema": true,
       "metadata": {
        "createTempViewForImplicitDf": true,
        "dataframeName": "_sqldf",
        "executionCount": 2
       },
       "overflow": false,
       "plotOptions": {
        "customPlotOptions": {},
        "displayType": "table",
        "pivotAggregation": null,
        "pivotColumns": null,
        "xColumns": null,
        "yColumns": null
       },
       "removedWidgets": [],
       "schema": [
        {
         "metadata": "{}",
         "name": "total_registros",
         "type": "\"long\""
        }
       ],
       "type": "table"
      }
     },
     "output_type": "display_data"
    }
   ],
   "source": [
    "-- Total de Registros\n",
    "SELECT COUNT(*) AS total_registros FROM Clientes;"
   ]
  },
  {
   "cell_type": "markdown",
   "metadata": {
    "application/vnd.databricks.v1+cell": {
     "cellMetadata": {},
     "inputWidgets": {},
     "nuid": "84b6598a-4a72-4a11-9d3b-777ae242d668",
     "showTitle": false,
     "tableResultSettingsMap": {},
     "title": ""
    }
   },
   "source": [
    "#### 4.1.2 Identificação de valores ausentes (NULL)"
   ]
  },
  {
   "cell_type": "markdown",
   "metadata": {
    "application/vnd.databricks.v1+cell": {
     "cellMetadata": {},
     "inputWidgets": {},
     "nuid": "9f736d2a-f0c5-4850-98b2-5b29ae40c23e",
     "showTitle": false,
     "tableResultSettingsMap": {},
     "title": ""
    }
   },
   "source": [
    "A tabela não possui registros com `valores nulos`"
   ]
  },
  {
   "cell_type": "code",
   "execution_count": 0,
   "metadata": {
    "application/vnd.databricks.v1+cell": {
     "cellMetadata": {
      "byteLimit": 2048000,
      "rowLimit": 10000
     },
     "inputWidgets": {},
     "nuid": "20a4a103-96b6-4b80-9f19-8afe3022871f",
     "showTitle": false,
     "tableResultSettingsMap": {},
     "title": ""
    }
   },
   "outputs": [
    {
     "output_type": "display_data",
     "data": {
      "text/html": [
       "<style scoped>\n",
       "  .table-result-container {\n",
       "    max-height: 300px;\n",
       "    overflow: auto;\n",
       "  }\n",
       "  table, th, td {\n",
       "    border: 1px solid black;\n",
       "    border-collapse: collapse;\n",
       "  }\n",
       "  th, td {\n",
       "    padding: 5px;\n",
       "  }\n",
       "  th {\n",
       "    text-align: left;\n",
       "  }\n",
       "</style><div class='table-result-container'><table class='table-result'><thead style='background-color: white'><tr><th>ID_Cliente</th><th>Primeiro_Nome</th><th>Sobrenome</th><th>Email</th><th>Genero</th><th>Data_Nascimento</th><th>Estado_Civil</th><th>Num_Filhos</th><th>Nivel_Escolar</th><th>Documento</th><th>Id_Localidade</th></tr></thead><tbody></tbody></table></div>"
      ]
     },
     "metadata": {
      "application/vnd.databricks.v1+output": {
       "addedWidgets": {},
       "aggData": [],
       "aggError": "",
       "aggOverflow": false,
       "aggSchema": [],
       "aggSeriesLimitReached": false,
       "aggType": "",
       "arguments": {},
       "columnCustomDisplayInfos": {},
       "data": [],
       "datasetInfos": [
        {
         "name": "_sqldf",
         "schema": {
          "fields": [
           {
            "metadata": {},
            "name": "ID_Cliente",
            "nullable": true,
            "type": "long"
           },
           {
            "metadata": {},
            "name": "Primeiro_Nome",
            "nullable": true,
            "type": "string"
           },
           {
            "metadata": {},
            "name": "Sobrenome",
            "nullable": true,
            "type": "string"
           },
           {
            "metadata": {},
            "name": "Email",
            "nullable": true,
            "type": "string"
           },
           {
            "metadata": {},
            "name": "Genero",
            "nullable": true,
            "type": "string"
           },
           {
            "metadata": {
             "__detected_date_formats": "d/M/yyyy"
            },
            "name": "Data_Nascimento",
            "nullable": true,
            "type": "date"
           },
           {
            "metadata": {},
            "name": "Estado_Civil",
            "nullable": true,
            "type": "string"
           },
           {
            "metadata": {},
            "name": "Num_Filhos",
            "nullable": true,
            "type": "long"
           },
           {
            "metadata": {},
            "name": "Nivel_Escolar",
            "nullable": true,
            "type": "string"
           },
           {
            "metadata": {},
            "name": "Documento",
            "nullable": true,
            "type": "long"
           },
           {
            "metadata": {},
            "name": "Id_Localidade",
            "nullable": true,
            "type": "long"
           }
          ],
          "type": "struct"
         },
         "tableIdentifier": null,
         "typeStr": "pyspark.sql.connect.dataframe.DataFrame"
        }
       ],
       "dbfsResultPath": null,
       "isJsonSchema": true,
       "metadata": {
        "createTempViewForImplicitDf": true,
        "dataframeName": "_sqldf",
        "executionCount": 14
       },
       "overflow": false,
       "plotOptions": {
        "customPlotOptions": {},
        "displayType": "table",
        "pivotAggregation": null,
        "pivotColumns": null,
        "xColumns": null,
        "yColumns": null
       },
       "removedWidgets": [],
       "schema": [
        {
         "metadata": "{}",
         "name": "ID_Cliente",
         "type": "\"long\""
        },
        {
         "metadata": "{}",
         "name": "Primeiro_Nome",
         "type": "\"string\""
        },
        {
         "metadata": "{}",
         "name": "Sobrenome",
         "type": "\"string\""
        },
        {
         "metadata": "{}",
         "name": "Email",
         "type": "\"string\""
        },
        {
         "metadata": "{}",
         "name": "Genero",
         "type": "\"string\""
        },
        {
         "metadata": "{\"__detected_date_formats\": \"d/M/yyyy\"}",
         "name": "Data_Nascimento",
         "type": "\"date\""
        },
        {
         "metadata": "{}",
         "name": "Estado_Civil",
         "type": "\"string\""
        },
        {
         "metadata": "{}",
         "name": "Num_Filhos",
         "type": "\"long\""
        },
        {
         "metadata": "{}",
         "name": "Nivel_Escolar",
         "type": "\"string\""
        },
        {
         "metadata": "{}",
         "name": "Documento",
         "type": "\"long\""
        },
        {
         "metadata": "{}",
         "name": "Id_Localidade",
         "type": "\"long\""
        }
       ],
       "type": "table"
      }
     },
     "output_type": "display_data"
    }
   ],
   "source": [
    "SELECT\n",
    "    *\n",
    "FROM Clientes\n",
    "WHERE \n",
    "    ID_Cliente      IS NULL OR\n",
    "    Primeiro_Nome   IS NULL OR\n",
    "    Sobrenome       IS NULL OR\n",
    "    Email           IS NULL OR\n",
    "    Genero          IS NULL OR\n",
    "    Data_Nascimento IS NULL OR\n",
    "    Estado_Civil    IS NULL OR\n",
    "    Num_Filhos      IS NULL OR\n",
    "    Nivel_Escolar   IS NULL OR\n",
    "    Documento       IS NULL OR\n",
    "    Id_Localidade   IS NULL;"
   ]
  },
  {
   "cell_type": "markdown",
   "metadata": {
    "application/vnd.databricks.v1+cell": {
     "cellMetadata": {},
     "inputWidgets": {},
     "nuid": "f83a13d8-bb71-4022-af5c-7262e4604fba",
     "showTitle": false,
     "tableResultSettingsMap": {},
     "title": ""
    }
   },
   "source": [
    "#### 4.1.3 Detecção e tratamento de duplicatas"
   ]
  },
  {
   "cell_type": "markdown",
   "metadata": {
    "application/vnd.databricks.v1+cell": {
     "cellMetadata": {},
     "inputWidgets": {},
     "nuid": "e696a67b-a808-4f39-b1a3-e12aaec7f67c",
     "showTitle": false,
     "tableResultSettingsMap": {},
     "title": ""
    }
   },
   "source": [
    "A tabela de clientes não possui `valores duplicados`"
   ]
  },
  {
   "cell_type": "code",
   "execution_count": 0,
   "metadata": {
    "application/vnd.databricks.v1+cell": {
     "cellMetadata": {
      "byteLimit": 2048000,
      "rowLimit": 10000
     },
     "inputWidgets": {},
     "nuid": "745e932e-2b67-4fcd-92d0-1e2bf6cadaf8",
     "showTitle": false,
     "tableResultSettingsMap": {},
     "title": ""
    }
   },
   "outputs": [
    {
     "output_type": "display_data",
     "data": {
      "text/html": [
       "<style scoped>\n",
       "  .table-result-container {\n",
       "    max-height: 300px;\n",
       "    overflow: auto;\n",
       "  }\n",
       "  table, th, td {\n",
       "    border: 1px solid black;\n",
       "    border-collapse: collapse;\n",
       "  }\n",
       "  th, td {\n",
       "    padding: 5px;\n",
       "  }\n",
       "  th {\n",
       "    text-align: left;\n",
       "  }\n",
       "</style><div class='table-result-container'><table class='table-result'><thead style='background-color: white'><tr><th>ID_Cliente</th><th>Primeiro_Nome</th><th>Sobrenome</th><th>Email</th><th>Genero</th><th>Data_Nascimento</th><th>Estado_Civil</th><th>Num_Filhos</th><th>Nivel_Escolar</th><th>Documento</th><th>Id_Localidade</th><th>Rn</th></tr></thead><tbody></tbody></table></div>"
      ]
     },
     "metadata": {
      "application/vnd.databricks.v1+output": {
       "addedWidgets": {},
       "aggData": [],
       "aggError": "",
       "aggOverflow": false,
       "aggSchema": [],
       "aggSeriesLimitReached": false,
       "aggType": "",
       "arguments": {},
       "columnCustomDisplayInfos": {},
       "data": [],
       "datasetInfos": [
        {
         "name": "_sqldf",
         "schema": {
          "fields": [
           {
            "metadata": {},
            "name": "ID_Cliente",
            "nullable": true,
            "type": "long"
           },
           {
            "metadata": {},
            "name": "Primeiro_Nome",
            "nullable": true,
            "type": "string"
           },
           {
            "metadata": {},
            "name": "Sobrenome",
            "nullable": true,
            "type": "string"
           },
           {
            "metadata": {},
            "name": "Email",
            "nullable": true,
            "type": "string"
           },
           {
            "metadata": {},
            "name": "Genero",
            "nullable": true,
            "type": "string"
           },
           {
            "metadata": {
             "__detected_date_formats": "d/M/yyyy"
            },
            "name": "Data_Nascimento",
            "nullable": true,
            "type": "date"
           },
           {
            "metadata": {},
            "name": "Estado_Civil",
            "nullable": true,
            "type": "string"
           },
           {
            "metadata": {},
            "name": "Num_Filhos",
            "nullable": true,
            "type": "long"
           },
           {
            "metadata": {},
            "name": "Nivel_Escolar",
            "nullable": true,
            "type": "string"
           },
           {
            "metadata": {},
            "name": "Documento",
            "nullable": true,
            "type": "long"
           },
           {
            "metadata": {},
            "name": "Id_Localidade",
            "nullable": true,
            "type": "long"
           },
           {
            "metadata": {},
            "name": "Rn",
            "nullable": false,
            "type": "integer"
           }
          ],
          "type": "struct"
         },
         "tableIdentifier": null,
         "typeStr": "pyspark.sql.connect.dataframe.DataFrame"
        }
       ],
       "dbfsResultPath": null,
       "isJsonSchema": true,
       "metadata": {
        "createTempViewForImplicitDf": true,
        "dataframeName": "_sqldf",
        "executionCount": 19
       },
       "overflow": false,
       "plotOptions": {
        "customPlotOptions": {},
        "displayType": "table",
        "pivotAggregation": null,
        "pivotColumns": null,
        "xColumns": null,
        "yColumns": null
       },
       "removedWidgets": [],
       "schema": [
        {
         "metadata": "{}",
         "name": "ID_Cliente",
         "type": "\"long\""
        },
        {
         "metadata": "{}",
         "name": "Primeiro_Nome",
         "type": "\"string\""
        },
        {
         "metadata": "{}",
         "name": "Sobrenome",
         "type": "\"string\""
        },
        {
         "metadata": "{}",
         "name": "Email",
         "type": "\"string\""
        },
        {
         "metadata": "{}",
         "name": "Genero",
         "type": "\"string\""
        },
        {
         "metadata": "{\"__detected_date_formats\": \"d/M/yyyy\"}",
         "name": "Data_Nascimento",
         "type": "\"date\""
        },
        {
         "metadata": "{}",
         "name": "Estado_Civil",
         "type": "\"string\""
        },
        {
         "metadata": "{}",
         "name": "Num_Filhos",
         "type": "\"long\""
        },
        {
         "metadata": "{}",
         "name": "Nivel_Escolar",
         "type": "\"string\""
        },
        {
         "metadata": "{}",
         "name": "Documento",
         "type": "\"long\""
        },
        {
         "metadata": "{}",
         "name": "Id_Localidade",
         "type": "\"long\""
        },
        {
         "metadata": "{}",
         "name": "Rn",
         "type": "\"integer\""
        }
       ],
       "type": "table"
      }
     },
     "output_type": "display_data"
    }
   ],
   "source": [
    "-- Verificando dados duplicados\n",
    "SELECT \n",
    "    COUNT(*) AS quantidade_duplicados\n",
    "FROM \n",
    "    Clientes\n",
    "GROUP BY \n",
    "    id_cliente, primeiro_nome, sobrenome, email, genero, \n",
    "    data_nascimento, estado_civil, num_filhos, nivel_escolar, \n",
    "    documento, id_localidade\n",
    "HAVING \n",
    "    COUNT(*) > 1;"
   ]
  },
  {
   "cell_type": "markdown",
   "metadata": {
    "application/vnd.databricks.v1+cell": {
     "cellMetadata": {},
     "inputWidgets": {},
     "nuid": "dbe286e1-2c66-4ee1-9ddd-79803c25bf69",
     "showTitle": false,
     "tableResultSettingsMap": {},
     "title": ""
    }
   },
   "source": [
    "#### 4.1.4 Padronização de formatos (textos)"
   ]
  },
  {
   "cell_type": "markdown",
   "metadata": {
    "application/vnd.databricks.v1+cell": {
     "cellMetadata": {},
     "inputWidgets": {},
     "nuid": "d886465a-c48c-4405-b852-fc5f412ce7af",
     "showTitle": false,
     "tableResultSettingsMap": {},
     "title": ""
    }
   },
   "source": [
    "***Problemas Encontrados:***\n",
    "- ❌Nomes e sobrenomes em CAIXA ALTA"
   ]
  },
  {
   "cell_type": "code",
   "execution_count": 0,
   "metadata": {
    "application/vnd.databricks.v1+cell": {
     "cellMetadata": {
      "byteLimit": 2048000,
      "rowLimit": 10000
     },
     "inputWidgets": {},
     "nuid": "fe7364ba-8144-4c3f-8b10-d7d51c90390a",
     "showTitle": false,
     "tableResultSettingsMap": {
      "0": {
       "dataGridStateBlob": "{\"version\":1,\"tableState\":{\"columnPinning\":{\"left\":[\"#row_number#\"],\"right\":[]},\"columnSizing\":{\"Genero\":115,\"Email\":190},\"columnVisibility\":{}},\"settings\":{\"columns\":{}},\"syncTimestamp\":1754923361891}",
       "filterBlob": null,
       "queryPlanFiltersBlob": null,
       "tableResultIndex": 0
      }
     },
     "title": ""
    }
   },
   "outputs": [
    {
     "output_type": "display_data",
     "data": {
      "text/html": [
       "<style scoped>\n",
       "  .table-result-container {\n",
       "    max-height: 300px;\n",
       "    overflow: auto;\n",
       "  }\n",
       "  table, th, td {\n",
       "    border: 1px solid black;\n",
       "    border-collapse: collapse;\n",
       "  }\n",
       "  th, td {\n",
       "    padding: 5px;\n",
       "  }\n",
       "  th {\n",
       "    text-align: left;\n",
       "  }\n",
       "</style><div class='table-result-container'><table class='table-result'><thead style='background-color: white'><tr><th>ID_Cliente</th><th>Primeiro_Nome</th><th>Sobrenome</th><th>Email</th><th>Genero</th><th>Data_Nascimento</th><th>Estado_Civil</th><th>Num_Filhos</th><th>Nivel_Escolar</th><th>Documento</th><th>Id_Localidade</th></tr></thead><tbody><tr><td>11000</td><td>STHEFESON</td><td>PEREIRA</td><td>sthefeson8@icloud.com</td><td>M</td><td>1966-08-04</td><td>C</td><td>2</td><td>Superior Completo</td><td>80912350</td><td>32</td></tr><tr><td>11001</td><td>ANTONIO</td><td>MANHÃES</td><td>antonio19@hotmail.com.br</td><td>M</td><td>1965-05-14</td><td>S</td><td>3</td><td>Superior Completo</td><td>18106981686</td><td>30</td></tr><tr><td>11002</td><td>BIANCA</td><td>PAZ</td><td>bianca53@live.com.br</td><td>F</td><td>1965-12-08</td><td>C</td><td>3</td><td>Superior Completo</td><td>77468986692</td><td>24</td></tr><tr><td>11003</td><td>SILVIO</td><td>FAHRNHOLZ</td><td>silvio21@hotmail.com.br</td><td>M</td><td>1968-02-15</td><td>S</td><td>0</td><td>Superior Completo</td><td>28009530521</td><td>1</td></tr><tr><td>11004</td><td>LUIZA</td><td>CABRAL</td><td>luiza70@msn.com</td><td>F</td><td>1968-08-08</td><td>S</td><td>5</td><td>Superior Completo</td><td>16316472002</td><td>4</td></tr><tr><td>11005</td><td>ANA</td><td>SILVA</td><td>ana59@outlook.com.br</td><td>F</td><td>1965-05-08</td><td>S</td><td>0</td><td>Superior Completo</td><td>4013622223</td><td>21</td></tr><tr><td>11007</td><td>NATALIA</td><td>MARINHO</td><td>natalia44@icloud.com</td><td>F</td><td>1964-09-05</td><td>C</td><td>3</td><td>Superior Completo</td><td>37087830006</td><td>34</td></tr><tr><td>11008</td><td>LEONARDO</td><td>FERREIRA</td><td>leonardo63@yahoo.com.br</td><td>M</td><td>1964-07-07</td><td>S</td><td>4</td><td>Superior Completo</td><td>81547961498</td><td>12</td></tr><tr><td>11009</td><td>CHAN</td><td>SANTOS</td><td>chan17@uol.com</td><td>F</td><td>1964-01-04</td><td>S</td><td>0</td><td>Superior Completo</td><td>9307863580</td><td>16</td></tr><tr><td>11010</td><td>FERNANDA</td><td>FERREIRA</td><td>fernanda31@yahoo.com</td><td>F</td><td>1964-06-02</td><td>S</td><td>0</td><td>Superior Completo</td><td>65608656996</td><td>17</td></tr><tr><td>11011</td><td>RAISSA</td><td>NEGRELLI</td><td>raissa28@yahoo.com.br</td><td>F</td><td>1963-04-11</td><td>C</td><td>4</td><td>Superior Completo</td><td>1811326</td><td>5</td></tr><tr><td>11012</td><td>ARTHUR</td><td>ROCHA</td><td>arthur41@uol.com</td><td>M</td><td>1968-01-18</td><td>C</td><td>2</td><td>Superior Completo</td><td>30339354628</td><td>11</td></tr><tr><td>11013</td><td>EDUARDO</td><td>SILVA</td><td>eduardo57@live.com.br</td><td>M</td><td>1968-06-08</td><td>C</td><td>2</td><td>Superior Completo</td><td>9686016920</td><td>7</td></tr><tr><td>11014</td><td>JOÃO</td><td>AIRES</td><td>joão17@live.com</td><td>M</td><td>1968-09-05</td><td>S</td><td>3</td><td>Superior Completo</td><td>67853074692</td><td>32</td></tr><tr><td>11015</td><td>CAIO</td><td>CALDAS</td><td>caio60@gmail.com.br</td><td>M</td><td>1979-02-27</td><td>S</td><td>0</td><td>Superior Incompleto</td><td>37983501514</td><td>33</td></tr><tr><td>11016</td><td>TIAGO</td><td>PEREIRA</td><td>tiago48@icloud.com.br</td><td>M</td><td>1979-04-28</td><td>C</td><td>0</td><td>Superior Incompleto</td><td>77981752829</td><td>12</td></tr><tr><td>11017</td><td>JULIA</td><td>PENTEADO</td><td>julia36@terra.com.br</td><td>F</td><td>1944-06-26</td><td>S</td><td>4</td><td>Ensino Médio Completo</td><td>49079518582</td><td>13</td></tr><tr><td>11018</td><td>BERNARDO</td><td>BOTELHO</td><td>bernardo50@outlook.com</td><td>M</td><td>1944-09-10</td><td>S</td><td>2</td><td>Superior Incompleto</td><td>25692001926</td><td>3</td></tr><tr><td>11019</td><td>VICTOR</td><td>FERREIRA</td><td>victor4@msn.com.br</td><td>M</td><td>2003-05-15</td><td>S</td><td>0</td><td>Ensino Médio Completo</td><td>36490461255</td><td>2</td></tr><tr><td>11020</td><td>THAYS</td><td>CASTRO</td><td>thays23@uol.com</td><td>F</td><td>2003-11-28</td><td>S</td><td>0</td><td>Ensino Médio Completo</td><td>43384364592</td><td>4</td></tr></tbody></table></div>"
      ]
     },
     "metadata": {
      "application/vnd.databricks.v1+output": {
       "addedWidgets": {},
       "aggData": [],
       "aggError": "",
       "aggOverflow": false,
       "aggSchema": [],
       "aggSeriesLimitReached": false,
       "aggType": "",
       "arguments": {},
       "columnCustomDisplayInfos": {},
       "data": [
        [
         11000,
         "STHEFESON",
         "PEREIRA",
         "sthefeson8@icloud.com",
         "M",
         "1966-08-04",
         "C",
         2,
         "Superior Completo",
         80912350,
         32
        ],
        [
         11001,
         "ANTONIO",
         "MANHÃES",
         "antonio19@hotmail.com.br",
         "M",
         "1965-05-14",
         "S",
         3,
         "Superior Completo",
         18106981686,
         30
        ],
        [
         11002,
         "BIANCA",
         "PAZ",
         "bianca53@live.com.br",
         "F",
         "1965-12-08",
         "C",
         3,
         "Superior Completo",
         77468986692,
         24
        ],
        [
         11003,
         "SILVIO",
         "FAHRNHOLZ",
         "silvio21@hotmail.com.br",
         "M",
         "1968-02-15",
         "S",
         0,
         "Superior Completo",
         28009530521,
         1
        ],
        [
         11004,
         "LUIZA",
         "CABRAL",
         "luiza70@msn.com",
         "F",
         "1968-08-08",
         "S",
         5,
         "Superior Completo",
         16316472002,
         4
        ],
        [
         11005,
         "ANA",
         "SILVA",
         "ana59@outlook.com.br",
         "F",
         "1965-05-08",
         "S",
         0,
         "Superior Completo",
         4013622223,
         21
        ],
        [
         11007,
         "NATALIA",
         "MARINHO",
         "natalia44@icloud.com",
         "F",
         "1964-09-05",
         "C",
         3,
         "Superior Completo",
         37087830006,
         34
        ],
        [
         11008,
         "LEONARDO",
         "FERREIRA",
         "leonardo63@yahoo.com.br",
         "M",
         "1964-07-07",
         "S",
         4,
         "Superior Completo",
         81547961498,
         12
        ],
        [
         11009,
         "CHAN",
         "SANTOS",
         "chan17@uol.com",
         "F",
         "1964-01-04",
         "S",
         0,
         "Superior Completo",
         9307863580,
         16
        ],
        [
         11010,
         "FERNANDA",
         "FERREIRA",
         "fernanda31@yahoo.com",
         "F",
         "1964-06-02",
         "S",
         0,
         "Superior Completo",
         65608656996,
         17
        ],
        [
         11011,
         "RAISSA",
         "NEGRELLI",
         "raissa28@yahoo.com.br",
         "F",
         "1963-04-11",
         "C",
         4,
         "Superior Completo",
         1811326,
         5
        ],
        [
         11012,
         "ARTHUR",
         "ROCHA",
         "arthur41@uol.com",
         "M",
         "1968-01-18",
         "C",
         2,
         "Superior Completo",
         30339354628,
         11
        ],
        [
         11013,
         "EDUARDO",
         "SILVA",
         "eduardo57@live.com.br",
         "M",
         "1968-06-08",
         "C",
         2,
         "Superior Completo",
         9686016920,
         7
        ],
        [
         11014,
         "JOÃO",
         "AIRES",
         "joão17@live.com",
         "M",
         "1968-09-05",
         "S",
         3,
         "Superior Completo",
         67853074692,
         32
        ],
        [
         11015,
         "CAIO",
         "CALDAS",
         "caio60@gmail.com.br",
         "M",
         "1979-02-27",
         "S",
         0,
         "Superior Incompleto",
         37983501514,
         33
        ],
        [
         11016,
         "TIAGO",
         "PEREIRA",
         "tiago48@icloud.com.br",
         "M",
         "1979-04-28",
         "C",
         0,
         "Superior Incompleto",
         77981752829,
         12
        ],
        [
         11017,
         "JULIA",
         "PENTEADO",
         "julia36@terra.com.br",
         "F",
         "1944-06-26",
         "S",
         4,
         "Ensino Médio Completo",
         49079518582,
         13
        ],
        [
         11018,
         "BERNARDO",
         "BOTELHO",
         "bernardo50@outlook.com",
         "M",
         "1944-09-10",
         "S",
         2,
         "Superior Incompleto",
         25692001926,
         3
        ],
        [
         11019,
         "VICTOR",
         "FERREIRA",
         "victor4@msn.com.br",
         "M",
         "2003-05-15",
         "S",
         0,
         "Ensino Médio Completo",
         36490461255,
         2
        ],
        [
         11020,
         "THAYS",
         "CASTRO",
         "thays23@uol.com",
         "F",
         "2003-11-28",
         "S",
         0,
         "Ensino Médio Completo",
         43384364592,
         4
        ]
       ],
       "datasetInfos": [
        {
         "name": "_sqldf",
         "schema": {
          "fields": [
           {
            "metadata": {},
            "name": "ID_Cliente",
            "nullable": true,
            "type": "long"
           },
           {
            "metadata": {},
            "name": "Primeiro_Nome",
            "nullable": true,
            "type": "string"
           },
           {
            "metadata": {},
            "name": "Sobrenome",
            "nullable": true,
            "type": "string"
           },
           {
            "metadata": {},
            "name": "Email",
            "nullable": true,
            "type": "string"
           },
           {
            "metadata": {},
            "name": "Genero",
            "nullable": true,
            "type": "string"
           },
           {
            "metadata": {
             "__detected_date_formats": "d/M/yyyy"
            },
            "name": "Data_Nascimento",
            "nullable": true,
            "type": "date"
           },
           {
            "metadata": {},
            "name": "Estado_Civil",
            "nullable": true,
            "type": "string"
           },
           {
            "metadata": {},
            "name": "Num_Filhos",
            "nullable": true,
            "type": "long"
           },
           {
            "metadata": {},
            "name": "Nivel_Escolar",
            "nullable": true,
            "type": "string"
           },
           {
            "metadata": {},
            "name": "Documento",
            "nullable": true,
            "type": "long"
           },
           {
            "metadata": {},
            "name": "Id_Localidade",
            "nullable": true,
            "type": "long"
           }
          ],
          "type": "struct"
         },
         "tableIdentifier": null,
         "typeStr": "pyspark.sql.connect.dataframe.DataFrame"
        }
       ],
       "dbfsResultPath": null,
       "isJsonSchema": true,
       "metadata": {
        "createTempViewForImplicitDf": true,
        "dataframeName": "_sqldf",
        "executionCount": 22
       },
       "overflow": false,
       "plotOptions": {
        "customPlotOptions": {},
        "displayType": "table",
        "pivotAggregation": null,
        "pivotColumns": null,
        "xColumns": null,
        "yColumns": null
       },
       "removedWidgets": [],
       "schema": [
        {
         "metadata": "{}",
         "name": "ID_Cliente",
         "type": "\"long\""
        },
        {
         "metadata": "{}",
         "name": "Primeiro_Nome",
         "type": "\"string\""
        },
        {
         "metadata": "{}",
         "name": "Sobrenome",
         "type": "\"string\""
        },
        {
         "metadata": "{}",
         "name": "Email",
         "type": "\"string\""
        },
        {
         "metadata": "{}",
         "name": "Genero",
         "type": "\"string\""
        },
        {
         "metadata": "{\"__detected_date_formats\": \"d/M/yyyy\"}",
         "name": "Data_Nascimento",
         "type": "\"date\""
        },
        {
         "metadata": "{}",
         "name": "Estado_Civil",
         "type": "\"string\""
        },
        {
         "metadata": "{}",
         "name": "Num_Filhos",
         "type": "\"long\""
        },
        {
         "metadata": "{}",
         "name": "Nivel_Escolar",
         "type": "\"string\""
        },
        {
         "metadata": "{}",
         "name": "Documento",
         "type": "\"long\""
        },
        {
         "metadata": "{}",
         "name": "Id_Localidade",
         "type": "\"long\""
        }
       ],
       "type": "table"
      }
     },
     "output_type": "display_data"
    }
   ],
   "source": [
    "SELECT * FROM clientes LIMIT 20;"
   ]
  },
  {
   "cell_type": "markdown",
   "metadata": {
    "application/vnd.databricks.v1+cell": {
     "cellMetadata": {},
     "inputWidgets": {},
     "nuid": "0440c518-3444-4461-bca2-567df3d6efec",
     "showTitle": false,
     "tableResultSettingsMap": {},
     "title": ""
    }
   },
   "source": [
    "***Ações Tomadas:***\n",
    "\n",
    "**Normalização de nomes**\n",
    "\n",
    "Ao analisar a tabela, identifiquei que as colunas Primeiro_nome e Sobrenome estão com todos os caracteres em letras maiúsculas, o que não corresponde ao formato padrão desejado. Para corrigir esse problema, utilizarei o comando `UPDATE` na tabela clientes, ajustando os registros para que apenas a primeira letra de cada nome e sobrenome fique em maiúscula, seguindo a convenção adequada."
   ]
  },
  {
   "cell_type": "code",
   "execution_count": 0,
   "metadata": {
    "application/vnd.databricks.v1+cell": {
     "cellMetadata": {
      "byteLimit": 2048000,
      "rowLimit": 10000
     },
     "inputWidgets": {},
     "nuid": "c17d31d9-ceaa-4655-bd0b-5b643159b40b",
     "showTitle": false,
     "tableResultSettingsMap": {},
     "title": ""
    }
   },
   "outputs": [
    {
     "output_type": "display_data",
     "data": {
      "text/html": [
       "<style scoped>\n",
       "  .table-result-container {\n",
       "    max-height: 300px;\n",
       "    overflow: auto;\n",
       "  }\n",
       "  table, th, td {\n",
       "    border: 1px solid black;\n",
       "    border-collapse: collapse;\n",
       "  }\n",
       "  th, td {\n",
       "    padding: 5px;\n",
       "  }\n",
       "  th {\n",
       "    text-align: left;\n",
       "  }\n",
       "</style><div class='table-result-container'><table class='table-result'><thead style='background-color: white'><tr><th>num_affected_rows</th></tr></thead><tbody><tr><td>18148</td></tr></tbody></table></div>"
      ]
     },
     "metadata": {
      "application/vnd.databricks.v1+output": {
       "addedWidgets": {},
       "aggData": [],
       "aggError": "",
       "aggOverflow": false,
       "aggSchema": [],
       "aggSeriesLimitReached": false,
       "aggType": "",
       "arguments": {},
       "columnCustomDisplayInfos": {},
       "data": [
        [
         18148
        ]
       ],
       "datasetInfos": [
        {
         "name": "_sqldf",
         "schema": {
          "fields": [
           {
            "metadata": {},
            "name": "num_affected_rows",
            "nullable": true,
            "type": "long"
           }
          ],
          "type": "struct"
         },
         "tableIdentifier": null,
         "typeStr": "pyspark.sql.connect.dataframe.DataFrame"
        }
       ],
       "dbfsResultPath": null,
       "isJsonSchema": true,
       "metadata": {
        "createTempViewForImplicitDf": true,
        "dataframeName": "_sqldf",
        "executionCount": 12
       },
       "overflow": false,
       "plotOptions": {
        "customPlotOptions": {},
        "displayType": "table",
        "pivotAggregation": null,
        "pivotColumns": null,
        "xColumns": null,
        "yColumns": null
       },
       "removedWidgets": [],
       "schema": [
        {
         "metadata": "{}",
         "name": "num_affected_rows",
         "type": "\"long\""
        }
       ],
       "type": "table"
      }
     },
     "output_type": "display_data"
    }
   ],
   "source": [
    "UPDATE Clientes\n",
    "   SET Primeiro_Nome = CONCAT(UPPER(LEFT(Primeiro_Nome, 1)) , LOWER(SUBSTRING(Primeiro_Nome, 2, LEN(Primeiro_Nome))));\n",
    "\n",
    "UPDATE Clientes\n",
    "   SET Sobrenome = CONCAT(UPPER(LEFT(Sobrenome, 1)) , LOWER(SUBSTRING(Sobrenome, 2, LEN(Sobrenome))))"
   ]
  },
  {
   "cell_type": "code",
   "execution_count": 0,
   "metadata": {
    "application/vnd.databricks.v1+cell": {
     "cellMetadata": {
      "byteLimit": 2048000,
      "rowLimit": 10000
     },
     "inputWidgets": {},
     "nuid": "b26eb7b3-0d6e-45fe-bb84-cdb3da8302bd",
     "showTitle": false,
     "tableResultSettingsMap": {},
     "title": ""
    }
   },
   "outputs": [
    {
     "output_type": "display_data",
     "data": {
      "text/html": [
       "<style scoped>\n",
       "  .table-result-container {\n",
       "    max-height: 300px;\n",
       "    overflow: auto;\n",
       "  }\n",
       "  table, th, td {\n",
       "    border: 1px solid black;\n",
       "    border-collapse: collapse;\n",
       "  }\n",
       "  th, td {\n",
       "    padding: 5px;\n",
       "  }\n",
       "  th {\n",
       "    text-align: left;\n",
       "  }\n",
       "</style><div class='table-result-container'><table class='table-result'><thead style='background-color: white'><tr><th>ID_Cliente</th><th>Primeiro_Nome</th><th>Sobrenome</th><th>Email</th><th>Genero</th><th>Data_Nascimento</th><th>Estado_Civil</th><th>Num_Filhos</th><th>Nivel_Escolar</th><th>Documento</th><th>Id_Localidade</th></tr></thead><tbody><tr><td>11000</td><td>Sthefeson</td><td>Pereira</td><td>sthefeson8@icloud.com</td><td>M</td><td>1966-08-04</td><td>C</td><td>2</td><td>Superior Completo</td><td>80912350</td><td>32</td></tr><tr><td>11001</td><td>Antonio</td><td>Manhães</td><td>antonio19@hotmail.com.br</td><td>M</td><td>1965-05-14</td><td>S</td><td>3</td><td>Superior Completo</td><td>18106981686</td><td>30</td></tr><tr><td>11002</td><td>Bianca</td><td>Paz</td><td>bianca53@live.com.br</td><td>F</td><td>1965-12-08</td><td>C</td><td>3</td><td>Superior Completo</td><td>77468986692</td><td>24</td></tr><tr><td>11003</td><td>Silvio</td><td>Fahrnholz</td><td>silvio21@hotmail.com.br</td><td>M</td><td>1968-02-15</td><td>S</td><td>0</td><td>Superior Completo</td><td>28009530521</td><td>1</td></tr><tr><td>11004</td><td>Luiza</td><td>Cabral</td><td>luiza70@msn.com</td><td>F</td><td>1968-08-08</td><td>S</td><td>5</td><td>Superior Completo</td><td>16316472002</td><td>4</td></tr><tr><td>11005</td><td>Ana</td><td>Silva</td><td>ana59@outlook.com.br</td><td>F</td><td>1965-05-08</td><td>S</td><td>0</td><td>Superior Completo</td><td>4013622223</td><td>21</td></tr><tr><td>11007</td><td>Natalia</td><td>Marinho</td><td>natalia44@icloud.com</td><td>F</td><td>1964-09-05</td><td>C</td><td>3</td><td>Superior Completo</td><td>37087830006</td><td>34</td></tr><tr><td>11008</td><td>Leonardo</td><td>Ferreira</td><td>leonardo63@yahoo.com.br</td><td>M</td><td>1964-07-07</td><td>S</td><td>4</td><td>Superior Completo</td><td>81547961498</td><td>12</td></tr><tr><td>11009</td><td>Chan</td><td>Santos</td><td>chan17@uol.com</td><td>F</td><td>1964-01-04</td><td>S</td><td>0</td><td>Superior Completo</td><td>9307863580</td><td>16</td></tr><tr><td>11010</td><td>Fernanda</td><td>Ferreira</td><td>fernanda31@yahoo.com</td><td>F</td><td>1964-06-02</td><td>S</td><td>0</td><td>Superior Completo</td><td>65608656996</td><td>17</td></tr><tr><td>11011</td><td>Raissa</td><td>Negrelli</td><td>raissa28@yahoo.com.br</td><td>F</td><td>1963-04-11</td><td>C</td><td>4</td><td>Superior Completo</td><td>1811326</td><td>5</td></tr><tr><td>11012</td><td>Arthur</td><td>Rocha</td><td>arthur41@uol.com</td><td>M</td><td>1968-01-18</td><td>C</td><td>2</td><td>Superior Completo</td><td>30339354628</td><td>11</td></tr><tr><td>11013</td><td>Eduardo</td><td>Silva</td><td>eduardo57@live.com.br</td><td>M</td><td>1968-06-08</td><td>C</td><td>2</td><td>Superior Completo</td><td>9686016920</td><td>7</td></tr><tr><td>11014</td><td>João</td><td>Aires</td><td>joão17@live.com</td><td>M</td><td>1968-09-05</td><td>S</td><td>3</td><td>Superior Completo</td><td>67853074692</td><td>32</td></tr><tr><td>11015</td><td>Caio</td><td>Caldas</td><td>caio60@gmail.com.br</td><td>M</td><td>1979-02-27</td><td>S</td><td>0</td><td>Superior Incompleto</td><td>37983501514</td><td>33</td></tr><tr><td>11016</td><td>Tiago</td><td>Pereira</td><td>tiago48@icloud.com.br</td><td>M</td><td>1979-04-28</td><td>C</td><td>0</td><td>Superior Incompleto</td><td>77981752829</td><td>12</td></tr><tr><td>11017</td><td>Julia</td><td>Penteado</td><td>julia36@terra.com.br</td><td>F</td><td>1944-06-26</td><td>S</td><td>4</td><td>Ensino Médio Completo</td><td>49079518582</td><td>13</td></tr><tr><td>11018</td><td>Bernardo</td><td>Botelho</td><td>bernardo50@outlook.com</td><td>M</td><td>1944-09-10</td><td>S</td><td>2</td><td>Superior Incompleto</td><td>25692001926</td><td>3</td></tr><tr><td>11019</td><td>Victor</td><td>Ferreira</td><td>victor4@msn.com.br</td><td>M</td><td>2003-05-15</td><td>S</td><td>0</td><td>Ensino Médio Completo</td><td>36490461255</td><td>2</td></tr><tr><td>11020</td><td>Thays</td><td>Castro</td><td>thays23@uol.com</td><td>F</td><td>2003-11-28</td><td>S</td><td>0</td><td>Ensino Médio Completo</td><td>43384364592</td><td>4</td></tr></tbody></table></div>"
      ]
     },
     "metadata": {
      "application/vnd.databricks.v1+output": {
       "addedWidgets": {},
       "aggData": [],
       "aggError": "",
       "aggOverflow": false,
       "aggSchema": [],
       "aggSeriesLimitReached": false,
       "aggType": "",
       "arguments": {},
       "columnCustomDisplayInfos": {},
       "data": [
        [
         11000,
         "Sthefeson",
         "Pereira",
         "sthefeson8@icloud.com",
         "M",
         "1966-08-04",
         "C",
         2,
         "Superior Completo",
         80912350,
         32
        ],
        [
         11001,
         "Antonio",
         "Manhães",
         "antonio19@hotmail.com.br",
         "M",
         "1965-05-14",
         "S",
         3,
         "Superior Completo",
         18106981686,
         30
        ],
        [
         11002,
         "Bianca",
         "Paz",
         "bianca53@live.com.br",
         "F",
         "1965-12-08",
         "C",
         3,
         "Superior Completo",
         77468986692,
         24
        ],
        [
         11003,
         "Silvio",
         "Fahrnholz",
         "silvio21@hotmail.com.br",
         "M",
         "1968-02-15",
         "S",
         0,
         "Superior Completo",
         28009530521,
         1
        ],
        [
         11004,
         "Luiza",
         "Cabral",
         "luiza70@msn.com",
         "F",
         "1968-08-08",
         "S",
         5,
         "Superior Completo",
         16316472002,
         4
        ],
        [
         11005,
         "Ana",
         "Silva",
         "ana59@outlook.com.br",
         "F",
         "1965-05-08",
         "S",
         0,
         "Superior Completo",
         4013622223,
         21
        ],
        [
         11007,
         "Natalia",
         "Marinho",
         "natalia44@icloud.com",
         "F",
         "1964-09-05",
         "C",
         3,
         "Superior Completo",
         37087830006,
         34
        ],
        [
         11008,
         "Leonardo",
         "Ferreira",
         "leonardo63@yahoo.com.br",
         "M",
         "1964-07-07",
         "S",
         4,
         "Superior Completo",
         81547961498,
         12
        ],
        [
         11009,
         "Chan",
         "Santos",
         "chan17@uol.com",
         "F",
         "1964-01-04",
         "S",
         0,
         "Superior Completo",
         9307863580,
         16
        ],
        [
         11010,
         "Fernanda",
         "Ferreira",
         "fernanda31@yahoo.com",
         "F",
         "1964-06-02",
         "S",
         0,
         "Superior Completo",
         65608656996,
         17
        ],
        [
         11011,
         "Raissa",
         "Negrelli",
         "raissa28@yahoo.com.br",
         "F",
         "1963-04-11",
         "C",
         4,
         "Superior Completo",
         1811326,
         5
        ],
        [
         11012,
         "Arthur",
         "Rocha",
         "arthur41@uol.com",
         "M",
         "1968-01-18",
         "C",
         2,
         "Superior Completo",
         30339354628,
         11
        ],
        [
         11013,
         "Eduardo",
         "Silva",
         "eduardo57@live.com.br",
         "M",
         "1968-06-08",
         "C",
         2,
         "Superior Completo",
         9686016920,
         7
        ],
        [
         11014,
         "João",
         "Aires",
         "joão17@live.com",
         "M",
         "1968-09-05",
         "S",
         3,
         "Superior Completo",
         67853074692,
         32
        ],
        [
         11015,
         "Caio",
         "Caldas",
         "caio60@gmail.com.br",
         "M",
         "1979-02-27",
         "S",
         0,
         "Superior Incompleto",
         37983501514,
         33
        ],
        [
         11016,
         "Tiago",
         "Pereira",
         "tiago48@icloud.com.br",
         "M",
         "1979-04-28",
         "C",
         0,
         "Superior Incompleto",
         77981752829,
         12
        ],
        [
         11017,
         "Julia",
         "Penteado",
         "julia36@terra.com.br",
         "F",
         "1944-06-26",
         "S",
         4,
         "Ensino Médio Completo",
         49079518582,
         13
        ],
        [
         11018,
         "Bernardo",
         "Botelho",
         "bernardo50@outlook.com",
         "M",
         "1944-09-10",
         "S",
         2,
         "Superior Incompleto",
         25692001926,
         3
        ],
        [
         11019,
         "Victor",
         "Ferreira",
         "victor4@msn.com.br",
         "M",
         "2003-05-15",
         "S",
         0,
         "Ensino Médio Completo",
         36490461255,
         2
        ],
        [
         11020,
         "Thays",
         "Castro",
         "thays23@uol.com",
         "F",
         "2003-11-28",
         "S",
         0,
         "Ensino Médio Completo",
         43384364592,
         4
        ]
       ],
       "datasetInfos": [
        {
         "name": "_sqldf",
         "schema": {
          "fields": [
           {
            "metadata": {},
            "name": "ID_Cliente",
            "nullable": true,
            "type": "long"
           },
           {
            "metadata": {},
            "name": "Primeiro_Nome",
            "nullable": true,
            "type": "string"
           },
           {
            "metadata": {},
            "name": "Sobrenome",
            "nullable": true,
            "type": "string"
           },
           {
            "metadata": {},
            "name": "Email",
            "nullable": true,
            "type": "string"
           },
           {
            "metadata": {},
            "name": "Genero",
            "nullable": true,
            "type": "string"
           },
           {
            "metadata": {
             "__detected_date_formats": "d/M/yyyy"
            },
            "name": "Data_Nascimento",
            "nullable": true,
            "type": "date"
           },
           {
            "metadata": {},
            "name": "Estado_Civil",
            "nullable": true,
            "type": "string"
           },
           {
            "metadata": {},
            "name": "Num_Filhos",
            "nullable": true,
            "type": "long"
           },
           {
            "metadata": {},
            "name": "Nivel_Escolar",
            "nullable": true,
            "type": "string"
           },
           {
            "metadata": {},
            "name": "Documento",
            "nullable": true,
            "type": "long"
           },
           {
            "metadata": {},
            "name": "Id_Localidade",
            "nullable": true,
            "type": "long"
           }
          ],
          "type": "struct"
         },
         "tableIdentifier": null,
         "typeStr": "pyspark.sql.connect.dataframe.DataFrame"
        }
       ],
       "dbfsResultPath": null,
       "isJsonSchema": true,
       "metadata": {
        "createTempViewForImplicitDf": true,
        "dataframeName": "_sqldf",
        "executionCount": 13
       },
       "overflow": false,
       "plotOptions": {
        "customPlotOptions": {},
        "displayType": "table",
        "pivotAggregation": null,
        "pivotColumns": null,
        "xColumns": null,
        "yColumns": null
       },
       "removedWidgets": [],
       "schema": [
        {
         "metadata": "{}",
         "name": "ID_Cliente",
         "type": "\"long\""
        },
        {
         "metadata": "{}",
         "name": "Primeiro_Nome",
         "type": "\"string\""
        },
        {
         "metadata": "{}",
         "name": "Sobrenome",
         "type": "\"string\""
        },
        {
         "metadata": "{}",
         "name": "Email",
         "type": "\"string\""
        },
        {
         "metadata": "{}",
         "name": "Genero",
         "type": "\"string\""
        },
        {
         "metadata": "{\"__detected_date_formats\": \"d/M/yyyy\"}",
         "name": "Data_Nascimento",
         "type": "\"date\""
        },
        {
         "metadata": "{}",
         "name": "Estado_Civil",
         "type": "\"string\""
        },
        {
         "metadata": "{}",
         "name": "Num_Filhos",
         "type": "\"long\""
        },
        {
         "metadata": "{}",
         "name": "Nivel_Escolar",
         "type": "\"string\""
        },
        {
         "metadata": "{}",
         "name": "Documento",
         "type": "\"long\""
        },
        {
         "metadata": "{}",
         "name": "Id_Localidade",
         "type": "\"long\""
        }
       ],
       "type": "table"
      }
     },
     "output_type": "display_data"
    }
   ],
   "source": [
    "SELECT * FROM Clientes LIMIT 20;"
   ]
  }
 ],
 "metadata": {
  "application/vnd.databricks.v1+notebook": {
   "computePreferences": {
    "hardware": {
     "accelerator": null,
     "gpuPoolId": null,
     "memory": null
    }
   },
   "dashboards": [],
   "environmentMetadata": {
    "base_environment": "",
    "environment_version": "2"
   },
   "inputWidgetPreferences": null,
   "language": "sql",
   "notebookMetadata": {
    "pythonIndentUnit": 4
   },
   "notebookName": "Etapa 01 Importação e Tratamento de Dados 2025-08-09 06:48:14",
   "widgets": {}
  },
  "language_info": {
   "name": "sql"
  }
 },
 "nbformat": 4,
 "nbformat_minor": 0
}
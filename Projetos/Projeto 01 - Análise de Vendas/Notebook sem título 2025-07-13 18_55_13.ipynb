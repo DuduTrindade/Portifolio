{
 "cells": [
  {
   "cell_type": "markdown",
   "metadata": {
    "application/vnd.databricks.v1+cell": {
     "cellMetadata": {},
     "inputWidgets": {},
     "nuid": "0e8634c6-f8b4-4fbe-b3e2-609e0648bb9f",
     "showTitle": false,
     "tableResultSettingsMap": {},
     "title": ""
    }
   },
   "source": [
    "### PROJETO: Análise de Vendas de Produtos Eletrônicos\n",
    "\n",
    "​Este projeto tem como foco a análise de dados da empresa fictícia Nova Varejo que atua nos segmentos de eletrônicos e vestuário. Com um portfólio diversificado que inclui desde dispositivos móveis, computadores e acessórios tecnológicos de ponta até camisas, casacos e relógios, a empresa possui uma presença global, operando em múltiplos continentes por meio de canais online e lojas físicas. Seu público-alvo abrange desde consumidores individuais até pequenas e grandes empresas, o que demanda uma abordagem analítica abrangente e detalhada.\n",
    "\n",
    "\n",
    "#### Entendimento do Negócio\n",
    "\n",
    "​Recém-contratado como Analista de Dados Júnior na empresa Nova Varejo, fui designado para realizar uma análise descritiva com base nas vendas das lojas físicas e da plataforma de e-commerce da empresa, no período de janeiro/20 a junho/22. A liderança quer entender melhor o comportamento dos clientes, desempenho dos produtos e lojas em diferentes regiões, otimizar estratégias de vendas e reduzir custos.\n",
    "\n",
    "Objetivo:  Apresentar um relatório com insights que possam apoiar a tomada de decisões.\n",
    "\n",
    "#### Conjunto dos Dados​\n",
    "\n",
    "Os dados foram disponibilizados em formato de arquivos csv extraídos do sistema da empresa. Os arquivos são compostos pelas seguintes informações:\n",
    "\n"
   ]
  },
  {
   "cell_type": "markdown",
   "metadata": {
    "application/vnd.databricks.v1+cell": {
     "cellMetadata": {},
     "inputWidgets": {},
     "nuid": "575623dc-981d-40bf-8c2c-4e8f0b9b159f",
     "showTitle": false,
     "tableResultSettingsMap": {},
     "title": ""
    }
   },
   "source": [
    "![](https://github.com/DuduTrindade/Portifolio/tree/main/Projetos#projetos)\n"
   ]
  }
 ],
 "metadata": {
  "application/vnd.databricks.v1+notebook": {
   "computePreferences": null,
   "dashboards": [],
   "environmentMetadata": {
    "base_environment": "",
    "environment_version": "2"
   },
   "inputWidgetPreferences": null,
   "language": "sql",
   "notebookMetadata": {
    "pythonIndentUnit": 4
   },
   "notebookName": "Notebook sem título 2025-07-13 18:55:13",
   "widgets": {}
  },
  "language_info": {
   "name": "sql"
  }
 },
 "nbformat": 4,
 "nbformat_minor": 0
}